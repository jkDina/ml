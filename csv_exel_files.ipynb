{
 "cells": [
  {
   "cell_type": "markdown",
   "metadata": {},
   "source": [
    "# Работа с CSV файлами"
   ]
  },
  {
   "cell_type": "code",
   "execution_count": 71,
   "metadata": {},
   "outputs": [],
   "source": [
    "import csv\n",
    "import pandas as pd\n",
    "import numpy as np\n",
    "import datetime\n",
    "import matplotlib.pyplot as plt\n",
    "%matplotlib inline"
   ]
  },
  {
   "cell_type": "code",
   "execution_count": null,
   "metadata": {},
   "outputs": [],
   "source": [
    "pd.set_option('display.notebook_repr_html', False)\n",
    "pd.set_option('display.max_columns', 8)\n",
    "pd.set_option('display.max_rows', 10)\n",
    "pd.set_option('display.width', 90)"
   ]
  },
  {
   "cell_type": "code",
   "execution_count": 35,
   "metadata": {},
   "outputs": [
    {
     "name": "stdout",
     "output_type": "stream",
     "text": [
      "['п»їHash;;age;regdate']\n",
      "['0x83CC160059A20B90DCB0A7EDB5465847;M;0;2003-07-03 00:00:00']\n",
      "['0x6891B3EFD9BE094E32F9D67B93087AE2;M;35;2005-03-16 00:00:00']\n",
      "['0x01E4DC7667785DB3837675028BE1FC26;M;39;2002-08-26 00:00:00']\n",
      "['0x4C1D149A18D427F1F679E21EAA71AB49;M;46;2016-02-05 00:00:00']\n",
      "['0x8F8F1AAE69D87C84F246FC9B84753327;M;43;2000-12-30 00:00:00']\n",
      "['0xBA71CFB94F46AADCBA0F1AB9761BEAE1;M;42;2001-12-11 00:00:00']\n"
     ]
    }
   ],
   "source": [
    "with open ('CSV1.csv') as f:\n",
    "    reader = csv.reader(f, delimiter=',')\n",
    "    for i, row in enumerate(reader):\n",
    "        print(row)\n",
    "        if(i>5):\n",
    "            break"
   ]
  },
  {
   "cell_type": "code",
   "execution_count": 36,
   "metadata": {},
   "outputs": [
    {
     "data": {
      "text/plain": [
       "                                   Hash;;age;regdate\n",
       "0  0x83CC160059A20B90DCB0A7EDB5465847;M;0;2003-07...\n",
       "1  0x6891B3EFD9BE094E32F9D67B93087AE2;M;35;2005-0...\n",
       "2  0x01E4DC7667785DB3837675028BE1FC26;M;39;2002-0...\n",
       "3  0x4C1D149A18D427F1F679E21EAA71AB49;M;46;2016-0...\n",
       "4  0x8F8F1AAE69D87C84F246FC9B84753327;M;43;2000-1..."
      ]
     },
     "execution_count": 36,
     "metadata": {},
     "output_type": "execute_result"
    }
   ],
   "source": [
    "msft=pd.read_csv(\"CSV1.csv\")\n",
    "msft[:5]"
   ]
  },
  {
   "cell_type": "code",
   "execution_count": 37,
   "metadata": {},
   "outputs": [
    {
     "data": {
      "text/plain": [
       "                                              клиент\n",
       "0  0x83CC160059A20B90DCB0A7EDB5465847;M;0;2003-07...\n",
       "1  0x6891B3EFD9BE094E32F9D67B93087AE2;M;35;2005-0...\n",
       "2  0x01E4DC7667785DB3837675028BE1FC26;M;39;2002-0...\n",
       "3  0x4C1D149A18D427F1F679E21EAA71AB49;M;46;2016-0...\n",
       "4  0x8F8F1AAE69D87C84F246FC9B84753327;M;43;2000-1..."
      ]
     },
     "execution_count": 37,
     "metadata": {},
     "output_type": "execute_result"
    }
   ],
   "source": [
    "df=pd.read_csv(\"CSV1.csv\", header=0, names=['клиент'])\n",
    "df[:5]\n"
   ]
  },
  {
   "cell_type": "code",
   "execution_count": 38,
   "metadata": {},
   "outputs": [],
   "source": [
    "#сохранение датафрейма в новый csv файл\n",
    "df.to_csv(\"CSVnew.csv\")"
   ]
  },
  {
   "cell_type": "code",
   "execution_count": 39,
   "metadata": {},
   "outputs": [
    {
     "name": "stderr",
     "output_type": "stream",
     "text": [
      "C:\\Users\\user\\Anaconda3\\lib\\site-packages\\ipykernel_launcher.py:2: FutureWarning: read_table is deprecated, use read_csv instead.\n",
      "  \n"
     ]
    },
    {
     "data": {
      "text/plain": [
       "                                 Hash Unnamed: 1  age              regdate\n",
       "0  0x83CC160059A20B90DCB0A7EDB5465847          M    0  2003-07-03 00:00:00\n",
       "1  0x6891B3EFD9BE094E32F9D67B93087AE2          M   35  2005-03-16 00:00:00\n",
       "2  0x01E4DC7667785DB3837675028BE1FC26          M   39  2002-08-26 00:00:00\n",
       "3  0x4C1D149A18D427F1F679E21EAA71AB49          M   46  2016-02-05 00:00:00\n",
       "4  0x8F8F1AAE69D87C84F246FC9B84753327          M   43  2000-12-30 00:00:00"
      ]
     },
     "execution_count": 39,
     "metadata": {},
     "output_type": "execute_result"
    }
   ],
   "source": [
    "#используем функцию read_table чтобы прочитать csv файл\n",
    "df=pd.read_table('CSV1.csv', sep=';')\n",
    "df[:5]"
   ]
  },
  {
   "cell_type": "code",
   "execution_count": 40,
   "metadata": {},
   "outputs": [
    {
     "name": "stdout",
     "output_type": "stream",
     "text": [
      "['|Hash|Unnamed: 1|age|regdate']\n",
      "['0|0x83CC160059A20B90DCB0A7EDB5465847|M|0|2003-07-03 00:00:00']\n",
      "['1|0x6891B3EFD9BE094E32F9D67B93087AE2|M|35|2005-03-16 00:00:00']\n",
      "['2|0x01E4DC7667785DB3837675028BE1FC26|M|39|2002-08-26 00:00:00']\n",
      "['3|0x4C1D149A18D427F1F679E21EAA71AB49|M|46|2016-02-05 00:00:00']\n",
      "['4|0x8F8F1AAE69D87C84F246FC9B84753327|M|43|2000-12-30 00:00:00']\n",
      "['5|0xBA71CFB94F46AADCBA0F1AB9761BEAE1|M|42|2001-12-11 00:00:00']\n"
     ]
    }
   ],
   "source": [
    "#сохраним как данные, в которых разделителем является вертикальная черта\n",
    "df.to_csv('CSVnew.csv', sep ='|')\n",
    "with open ('CSVnew.csv') as f:\n",
    "    reader = csv.reader(f, delimiter=',')\n",
    "    for i, row in enumerate(reader):\n",
    "        print(row)\n",
    "        if(i>5):\n",
    "            break"
   ]
  },
  {
   "cell_type": "code",
   "execution_count": 41,
   "metadata": {},
   "outputs": [
    {
     "data": {
      "text/plain": [
       "  0xA553CCC652B81EA57221B27A02A683FE;M;28;2011-07-28 00:00:00\n",
       "0  0x9859F2D74D2418A99F7362C987E4B435;M;33;2006-0...         \n",
       "1  0x855C762FCE790CCA8F04C548F4CE141A;M;33;2006-0...         \n",
       "2  0x511CB4A6567AB052288A9D7570A14D0E;M;32;2007-0...         \n",
       "3  0x945EAA44F12EF8C87474122EA88605DC;M;35;2004-0...         \n",
       "4  0x517B11465EAD2A6B0F9F3A084299932B;M;72;2001-1...         "
      ]
     },
     "execution_count": 41,
     "metadata": {},
     "output_type": "execute_result"
    }
   ],
   "source": [
    "#обработка загрязненных данных, выборочное считывание\n",
    "\n",
    "#считываем данные пропустив строки 0, 2, 3\n",
    "df = pd.read_csv('CSV1.csv', skiprows=[0,2,3])\n",
    "df[:5]\n",
    "\n",
    "#считываем, пропустив 2 строки в конце файла\n",
    "df = pd.read_csv('CSV1.csv', skipfooter=2, engine='python')\n",
    "df[-5:-1]\n",
    "\n",
    "#считаем только первые три строки\n",
    "df = pd.read_csv('CSV1.csv', nrows=3)\n",
    "df\n",
    "\n",
    "#пропускаем 100 строк, затем считываем 5 строк\n",
    "df = pd.read_csv('CSV1.csv', skiprows=100, nrows=5)\n",
    "df[:5]"
   ]
  },
  {
   "cell_type": "code",
   "execution_count": 54,
   "metadata": {},
   "outputs": [
    {
     "name": "stdout",
     "output_type": "stream",
     "text": [
      "['CSV1']\n",
      "CSV1\n",
      "None\n",
      "2\n",
      "B\n",
      "B2\n"
     ]
    },
    {
     "name": "stderr",
     "output_type": "stream",
     "text": [
      "C:\\Users\\user\\Anaconda3\\lib\\site-packages\\ipykernel_launcher.py:5: DeprecationWarning: Call to deprecated function get_sheet_names (Use wb.sheetnames).\n",
      "  \"\"\"\n",
      "C:\\Users\\user\\Anaconda3\\lib\\site-packages\\ipykernel_launcher.py:6: DeprecationWarning: Call to deprecated function get_sheet_by_name (Use wb[sheetname]).\n",
      "  \n"
     ]
    }
   ],
   "source": [
    "#чтение и запись данных в формате exel\n",
    "# https://habr.com/ru/company/otus/blog/331998/\n",
    "from openpyxl import load_workbook\n",
    "wb = load_workbook('CSVexel.xlsx')\n",
    "print(wb.get_sheet_names())\n",
    "sheet = wb.get_sheet_by_name('CSV1')\n",
    "print(sheet.title)\n",
    "anotherSheet = wb.active\n",
    "print(sheet['CSV1'].value)\n",
    "c = sheet['B2']\n",
    "print(c.row)\n",
    "print(c.column)\n",
    "print(c.coordinate)"
   ]
  },
  {
   "cell_type": "code",
   "execution_count": 59,
   "metadata": {},
   "outputs": [
    {
     "name": "stdout",
     "output_type": "stream",
     "text": [
      "35\n"
     ]
    }
   ],
   "source": [
    "ff=sheet.cell(row=3, column=3).value\n",
    "print(ff)"
   ]
  },
  {
   "cell_type": "code",
   "execution_count": 60,
   "metadata": {},
   "outputs": [
    {
     "name": "stdout",
     "output_type": "stream",
     "text": [
      "1 None\n",
      "2 M\n",
      "3 M\n"
     ]
    }
   ],
   "source": [
    "#распечатать значения из колонки 2\n",
    "for i in range(1, 4):\n",
    "     print(i, sheet.cell(row=i, column=2).value)"
   ]
  },
  {
   "cell_type": "code",
   "execution_count": 63,
   "metadata": {},
   "outputs": [
    {
     "name": "stdout",
     "output_type": "stream",
     "text": [
      "A\n",
      "1\n"
     ]
    }
   ],
   "source": [
    "from openpyxl.utils import get_column_letter, column_index_from_string\n",
    "print(get_column_letter(1))\n",
    "print(column_index_from_string('A'))"
   ]
  },
  {
   "cell_type": "code",
   "execution_count": 65,
   "metadata": {},
   "outputs": [
    {
     "name": "stdout",
     "output_type": "stream",
     "text": [
      "A1 Hash\n",
      "B1 None\n",
      "C1 age\n",
      "--- END ---\n",
      "A2 0x83CC160059A20B90DCB0A7EDB5465847\n",
      "B2 M\n",
      "C2 0\n",
      "--- END ---\n",
      "A3 0x6891B3EFD9BE094E32F9D67B93087AE2\n",
      "B3 M\n",
      "C3 35\n",
      "--- END ---\n"
     ]
    }
   ],
   "source": [
    "for cellObj in sheet['A1':'C3']:\n",
    "      for cell in cellObj:\n",
    "              print(cell.coordinate, cell.value)\n",
    "      print('--- END ---')"
   ]
  },
  {
   "cell_type": "code",
   "execution_count": 67,
   "metadata": {},
   "outputs": [
    {
     "name": "stdout",
     "output_type": "stream",
     "text": [
      "24238\n",
      "2544\n"
     ]
    }
   ],
   "source": [
    "print(sheet.max_row)\n",
    "print(sheet.max_column)"
   ]
  },
  {
   "cell_type": "code",
   "execution_count": null,
   "metadata": {},
   "outputs": [],
   "source": [
    "df = pd.DataFrame(sheet.values)\n",
    "data = sheet.values\n",
    "cols = next(data)[1:]\n",
    "data = list(data)\n",
    "idx = [r[0] for r in data]\n",
    "data = (islice(r, 1, None) for r in data)"
   ]
  },
  {
   "cell_type": "code",
   "execution_count": null,
   "metadata": {},
   "outputs": [],
   "source": [
    "#создать свой датафрейм\n",
    "df = pd.DataFrame(data, index=idx, columns=cols)\n",
    "df[:8]"
   ]
  },
  {
   "cell_type": "code",
   "execution_count": null,
   "metadata": {},
   "outputs": [],
   "source": [
    "from openpyxl.utils.dataframe import dataframe_to_rows\n",
    "wb = Workbook()\n",
    "ws = wb.active\n",
    "for r in dataframe_to_rows(df, index=True, header=True):\n",
    "    ws.append(r)"
   ]
  }
 ],
 "metadata": {
  "kernelspec": {
   "display_name": "Python 3",
   "language": "python",
   "name": "python3"
  },
  "language_info": {
   "codemirror_mode": {
    "name": "ipython",
    "version": 3
   },
   "file_extension": ".py",
   "mimetype": "text/x-python",
   "name": "python",
   "nbconvert_exporter": "python",
   "pygments_lexer": "ipython3",
   "version": "3.7.0"
  }
 },
 "nbformat": 4,
 "nbformat_minor": 2
}
