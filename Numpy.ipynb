{
 "cells": [
  {
   "cell_type": "markdown",
   "metadata": {},
   "source": [
    "# Numpy"
   ]
  },
  {
   "cell_type": "code",
   "execution_count": 13,
   "metadata": {},
   "outputs": [],
   "source": [
    "#импорт библиотеки numpy\n",
    "import numpy as np"
   ]
  },
  {
   "cell_type": "code",
   "execution_count": 85,
   "metadata": {},
   "outputs": [
    {
     "name": "stdout",
     "output_type": "stream",
     "text": [
      "[[1 1 0]\n",
      " [1 0 1]]\n"
     ]
    }
   ],
   "source": [
    "#создание массива\n",
    "nd = np.array([[1, 1, 0], [1, 0, 1]])\n",
    "print(nd)"
   ]
  },
  {
   "cell_type": "code",
   "execution_count": 3,
   "metadata": {},
   "outputs": [
    {
     "name": "stdout",
     "output_type": "stream",
     "text": [
      "[ 0  1  4  9 16]\n"
     ]
    }
   ],
   "source": [
    "x = np.array([i**2 for i in range(5)])\n",
    "print(x)"
   ]
  },
  {
   "cell_type": "code",
   "execution_count": null,
   "metadata": {},
   "outputs": [],
   "source": []
  },
  {
   "cell_type": "markdown",
   "metadata": {},
   "source": [
    "# Свойства массива"
   ]
  },
  {
   "cell_type": "code",
   "execution_count": 86,
   "metadata": {
    "scrolled": false
   },
   "outputs": [
    {
     "name": "stdout",
     "output_type": "stream",
     "text": [
      "Число измерений массива (размерность,ранг) (nd.ndim):  2\n",
      "Размеры массива (nd.shape):  (2, 3)\n",
      "Общее количество всех элементов (nd.size):  6\n",
      "Тип элемента в массиве (nd.dtype):  int32\n",
      "type nd1 (nd1.dtype):  float32\n",
      "Изначальный тип элементов массива:  [[1.5, 2, 3], [4, 5, 6]]\n",
      "\n",
      "Измененный тип элементов массива nd1 (nd1_):  [[1.5+0.j 2. +0.j 3. +0.j]\n",
      " [4. +0.j 5. +0.j 6. +0.j]]\n",
      "Pазмер одного элемента массива, указанный в байтах (nd.itemsize):  4\n",
      "Буфер, содержащий фактические элементы массива(nd1.data):  <memory at 0x0000022396D6DEA0>\n",
      "Перевод в список из буфера (nd1.data.tolist) [[1.0, 1.0, 0.0], [1.0, 0.0, 1.0]]\n"
     ]
    }
   ],
   "source": [
    "print('Число измерений массива (размерность,ранг) (nd.ndim): ', nd.ndim)\n",
    "print('Размеры массива (nd.shape): ', nd.shape)\n",
    "print('Общее количество всех элементов (nd.size): ', nd.size)\n",
    "print('Тип элемента в массиве (nd.dtype): ', nd.dtype)\n",
    "\n",
    "#Указываем тип данных при создании\n",
    "nd1 = np.array([[1, 1, 0], [1, 0, 1]], dtype=np.float32)\n",
    "print('type nd1 (nd1.dtype): ', nd1.dtype)\n",
    "\n",
    "#переопределение типов элементов массива в момент создания\n",
    "print('Изначальный тип элементов массива: ', ([[1.5, 2, 3], [4, 5, 6]]))\n",
    "print('', )\n",
    "nd1_ = np.array([[1.5, 2, 3], [4, 5, 6]], dtype=np.complex)\n",
    "print('Измененный тип элементов массива nd1 (nd1_): ', nd1_)\n",
    "\n",
    "print('Pазмер одного элемента массива, указанный в байтах (nd.itemsize): ', nd.itemsize)\n",
    "print('Буфер, содержащий фактические элементы массива(nd1.data): ', nd1.data)\n",
    "print('Перевод в список из буфера (nd1.data.tolist)', nd1.data.tolist())"
   ]
  },
  {
   "cell_type": "markdown",
   "metadata": {},
   "source": [
    "# Изменение формы массива"
   ]
  },
  {
   "cell_type": "code",
   "execution_count": 22,
   "metadata": {},
   "outputs": [
    {
     "name": "stdout",
     "output_type": "stream",
     "text": [
      "массив а\n",
      " [[[  0   1   2]\n",
      "  [ 10  12  13]]\n",
      "\n",
      " [[100 101 102]\n",
      "  [110 112 113]]]\n",
      "посмотреть форму массива\n",
      " (2, 2, 3)\n",
      "получить плоский массив\n",
      " [  0   1   2  10  12  13 100 101 102 110 112 113]\n",
      "изменить форму\n",
      " (6, 2)\n",
      "новый массив\n",
      " [[  0   1]\n",
      " [  2  10]\n",
      " [ 12  13]\n",
      " [100 101]\n",
      " [102 110]\n",
      " [112 113]]\n",
      "транспонирование\n",
      " [[  0   2  12 100 102 112]\n",
      " [  1  10  13 101 110 113]]\n",
      "изменить форму a.reshape((3, 4)\n",
      " [[  0   1   2  10]\n",
      " [ 12  13 100 101]\n",
      " [102 110 112 113]]\n",
      "reshape изменяет размерность массива, не меняя сами данные: \n",
      "np.reshape(a0, (3,2))\n",
      " b = \n",
      " [[0 1]\n",
      " [2 3]\n",
      " [4 5]]\n",
      "a0 = \n",
      " [0 1 2 3 4 5]\n",
      "Присвоим b[0,0] = 9 , \n",
      "b = \n",
      " [[9 1]\n",
      " [2 3]\n",
      " [4 5]]\n",
      "a0 = \n",
      " [9 1 2 3 4 5]\n",
      "np.power(a0,2) = \n",
      " [[ 0  1  4]\n",
      " [ 9 16 25]]\n",
      "a1\n",
      " [[  0   1   2  10]\n",
      " [ 12  13 100 101]\n",
      " [102 110 112 113]]\n",
      "a1[1] [ 12  13 100 101]\n",
      "a2\n",
      " [[  0 100   1 101]\n",
      " [  2 102  10 110]\n",
      " [ 12 112  13 113]]\n",
      "a2[1] [  2 102  10 110]\n"
     ]
    }
   ],
   "source": [
    "a = np.array([[[  0,   1,   2], [ 10,  12,  13]], [[100, 101, 102], [110, 112, 113]]])\n",
    "print('массив а\\n', a)\n",
    "print('посмотреть форму массива\\n', a.shape)\n",
    "print('получить плоский массив\\n', a.ravel())  # Делает массив плоским\n",
    "a.shape = (6, 2)\n",
    "print('изменить форму\\n', a.shape)  # Изменение формы\n",
    "print('новый массив\\n', a)\n",
    "print('транспонирование\\n', a.transpose() ) # Транспонирование\n",
    "print('изменить форму a.reshape((3, 4)\\n', a.reshape((3, 4)))  # Изменение формы\n",
    "#reshape изменяет размерность массива, не меняя сами данные\n",
    "print('reshape изменяет размерность массива, не меняя сами данные: ')\n",
    "a0 = np.arange(6)\n",
    "b = np.reshape(a0, (3,2))\n",
    "print('np.reshape(a0, (3,2))\\n', 'b = \\n', b)\n",
    "print('a0 = \\n', a0)\n",
    "b[0,0] = 9\n",
    "print('Присвоим b[0,0] = 9 ,', '\\nb = \\n', b)\n",
    "print('a0 = \\n', a0)\n",
    "a0 = np.reshape(np.arange(6), (2,-1))\n",
    "print('np.power(a0,2) = \\n', np.power(a0,2))\n",
    "#Порядок элементов в массиве в результате функции ravel() \n",
    "#соответствует обычному \"C-стилю\", то есть, чем правее индекс, тем он \"быстрее изменяется\": за элементом a[0,0] следует a[0,1]. \n",
    "#Если одна форма массива была изменена на другую, массив \n",
    "a1=a.reshape((3, 4))\n",
    "print('a1\\n', a1)\n",
    "print('a1[1]', a1[1])\n",
    "#в FORTRAN-стиле, в котором быстрее изменяется более левый индекс\n",
    "a2=a.reshape((3, 4), order='F')\n",
    "print('a2\\n', a2)\n",
    "print('a2[1]', a2[1])"
   ]
  },
  {
   "cell_type": "code",
   "execution_count": 88,
   "metadata": {},
   "outputs": [
    {
     "name": "stdout",
     "output_type": "stream",
     "text": [
      "Новый а, после g = a.resize((2, 6)\n",
      " [[  0   1   2  10  12  13]\n",
      " [100 101 102 110 112 113]]\n",
      "копия а с 4-мя строками и соответстветствующим количеством столбцов\n",
      " [[  0   1   2]\n",
      " [ 10  12  13]\n",
      " [100 101 102]\n",
      " [110 112 113]]\n"
     ]
    }
   ],
   "source": [
    "#Метод reshape() возвращает ее аргумент с измененной формой, \n",
    "#в то время как метод resize() изменяет сам массив\n",
    "a = np.array([[  0,   1], [  2,  10], [ 12,  13], [100, 101], [102, 110], [112, 113]])\n",
    "g = a.resize((2, 6))\n",
    "print('Новый а, после g = a.resize((2, 6)\\n', a)\n",
    "#если один из аргументов задается как -1, \n",
    "#то он автоматически рассчитывается в соответствии с остальным\n",
    "j = a.reshape((4, -1))\n",
    "print('копия а с 4-мя строками и соответстветствующим количеством столбцов\\n', j)"
   ]
  },
  {
   "cell_type": "markdown",
   "metadata": {},
   "source": [
    "# Объединение массивов"
   ]
  },
  {
   "cell_type": "code",
   "execution_count": null,
   "metadata": {},
   "outputs": [],
   "source": [
    "#Несколько массивов могут быть объединены вместе вдоль разных осей \n",
    "#с помощью функций hstack и vstack.\n",
    "\n",
    "#hstack() объединяет массивы по первым осям, vstack() — по последним"
   ]
  },
  {
   "cell_type": "code",
   "execution_count": 3,
   "metadata": {},
   "outputs": [
    {
     "name": "stdout",
     "output_type": "stream",
     "text": [
      "np.vstack \n",
      " [[1 2]\n",
      " [3 4]\n",
      " [5 6]\n",
      " [7 8]]\n",
      "np.hstack \n",
      " [[1 2 5 6]\n",
      " [3 4 7 8]]\n"
     ]
    }
   ],
   "source": [
    "a = np.array([[1, 2], [3, 4]])\n",
    "b = np.array([[5, 6], [7, 8]])\n",
    "print('np.vstack \\n', np.vstack((a, b)))\n",
    "print('np.hstack \\n', np.hstack((a, b)))"
   ]
  },
  {
   "cell_type": "code",
   "execution_count": 4,
   "metadata": {},
   "outputs": [
    {
     "data": {
      "text/plain": [
       "array([[1, 2, 5, 6],\n",
       "       [3, 4, 7, 8]])"
      ]
     },
     "execution_count": 4,
     "metadata": {},
     "output_type": "execute_result"
    }
   ],
   "source": [
    "#функция column_stack() объединяет одномерные массивы в качестве столбцов \n",
    "#двумерного массива\n",
    "np.column_stack((a, b))"
   ]
  },
  {
   "cell_type": "code",
   "execution_count": 5,
   "metadata": {},
   "outputs": [
    {
     "data": {
      "text/plain": [
       "array([[1, 2],\n",
       "       [3, 4],\n",
       "       [5, 6],\n",
       "       [7, 8]])"
      ]
     },
     "execution_count": 5,
     "metadata": {},
     "output_type": "execute_result"
    }
   ],
   "source": [
    "#для строк имеется функция row_stack()\n",
    "np.row_stack((a, b))\n"
   ]
  },
  {
   "cell_type": "code",
   "execution_count": 3,
   "metadata": {},
   "outputs": [
    {
     "name": "stdout",
     "output_type": "stream",
     "text": [
      "[[ 1  2  3]\n",
      " [ 4  5  6]\n",
      " [10 20 30]\n",
      " [40 50 60]\n",
      " [70 80 90]]\n"
     ]
    }
   ],
   "source": [
    "#соединяем последовательность массивов вдоль произвольной оси\n",
    "x = np.array([[1,2,3],[4,5,6]])\n",
    "y = np.array([[10,20,30],[40,50,60], [70,80,90]])\n",
    "z = np.concatenate([x,y])\n",
    "print(z)"
   ]
  },
  {
   "cell_type": "code",
   "execution_count": 5,
   "metadata": {},
   "outputs": [
    {
     "name": "stdout",
     "output_type": "stream",
     "text": [
      "[[ 1  2  3  4 10 20]\n",
      " [ 5  6  7  8 30 40]]\n"
     ]
    }
   ],
   "source": [
    "x = np.array([[1,2,3,4],[5,6,7,8]])\n",
    "y = np.array([[10,20],[30,40]])\n",
    "z = np.concatenate([x,y], axis=1)\n",
    "print(z)"
   ]
  },
  {
   "cell_type": "code",
   "execution_count": 7,
   "metadata": {},
   "outputs": [
    {
     "name": "stdout",
     "output_type": "stream",
     "text": [
      "[[1 2 3]\n",
      " [4 5 6]\n",
      " [7 8 9]]\n"
     ]
    }
   ],
   "source": [
    "x = np.array([[1,2,3],[4,5,6]])\n",
    "y = np.array([[7,8,9]])\n",
    "z = np.append(x, y, axis=0)\n",
    "print(z)"
   ]
  },
  {
   "cell_type": "markdown",
   "metadata": {},
   "source": [
    "# Разбиение массива"
   ]
  },
  {
   "cell_type": "code",
   "execution_count": 12,
   "metadata": {},
   "outputs": [
    {
     "name": "stdout",
     "output_type": "stream",
     "text": [
      "первоначальный массив  a\n",
      " [[ 0  1  2  3  4  5]\n",
      " [ 6  7  8  9 10 11]]\n",
      "\n",
      "массив, разбитый на 3 части\n",
      "\n",
      "часть первая\n",
      " [[0 1]\n",
      " [6 7]]\n",
      "часть вторая\n",
      " [[2 3]\n",
      " [8 9]]\n",
      "часть третья\n",
      " [[ 4  5]\n",
      " [10 11]]\n"
     ]
    }
   ],
   "source": [
    "#Используя hsplit() вы можете разбить массив вдоль горизонтальной оси, \n",
    "#указав либо число возвращаемых массивов одинаковой формы, \n",
    "#либо номера столбцов, после которых массив разрезается \"ножницами\"\n",
    "a = np.arange(12).reshape((2, 6))\n",
    "print('первоначальный массив  a\\n', a)\n",
    "p = np.hsplit(a, 3)\n",
    "print('\\nмассив, разбитый на 3 части\\n')  # Разбить на 3 части\n",
    "print('часть первая\\n', p[0])\n",
    "print('часть вторая\\n', p[1])\n",
    "print('часть третья\\n', p[2])"
   ]
  },
  {
   "cell_type": "code",
   "execution_count": 14,
   "metadata": {},
   "outputs": [
    {
     "name": "stdout",
     "output_type": "stream",
     "text": [
      "первая часть\n",
      " [[0 1 2]\n",
      " [6 7 8]]\n",
      "вторая часть\n",
      " [[3]\n",
      " [9]]\n",
      "третья часть\n",
      " [[ 4  5]\n",
      " [10 11]]\n"
     ]
    }
   ],
   "source": [
    "n = np.hsplit(a, (3, 4))  # Разрезать a после третьего и четвёртого столбца\n",
    "print('первая часть\\n', n[0])\n",
    "print('вторая часть\\n', n[1])\n",
    "print('третья часть\\n', n[2])"
   ]
  },
  {
   "cell_type": "code",
   "execution_count": 17,
   "metadata": {},
   "outputs": [
    {
     "name": "stdout",
     "output_type": "stream",
     "text": [
      "первая часть\n",
      " [[0 1 2 3 4 5]]\n",
      "вторая часть\n",
      " [[ 6  7  8  9 10 11]]\n"
     ]
    }
   ],
   "source": [
    "#Функция vsplit() разбивает массив вдоль вертикальной оси, \n",
    "m = np.vsplit(a, 2) \n",
    "print('первая часть\\n', m[0])\n",
    "print('вторая часть\\n', m[1])"
   ]
  },
  {
   "cell_type": "code",
   "execution_count": 19,
   "metadata": {},
   "outputs": [
    {
     "name": "stdout",
     "output_type": "stream",
     "text": [
      "первая часть\n",
      " [[0 1 2 3 4 5]]\n",
      "вторая часть\n",
      " [[ 6  7  8  9 10 11]]\n"
     ]
    }
   ],
   "source": [
    "#а array_split() позволяет указать оси, вдоль которых произойдет разбиение\n",
    "g = np.array_split(a, 2, axis=0) \n",
    "print('первая часть\\n', g[0])\n",
    "print('вторая часть\\n', g[1])"
   ]
  },
  {
   "cell_type": "code",
   "execution_count": 20,
   "metadata": {},
   "outputs": [
    {
     "name": "stdout",
     "output_type": "stream",
     "text": [
      "первая часть\n",
      " [[0 1 2]\n",
      " [6 7 8]]\n",
      "вторая часть\n",
      " [[ 3  4  5]\n",
      " [ 9 10 11]]\n"
     ]
    }
   ],
   "source": [
    "f = np.array_split(a, 2, axis=1) \n",
    "print('первая часть\\n', f[0])\n",
    "print('вторая часть\\n', f[1])"
   ]
  },
  {
   "cell_type": "markdown",
   "metadata": {},
   "source": [
    "# Представление или поверхностная копия"
   ]
  },
  {
   "cell_type": "code",
   "execution_count": 23,
   "metadata": {},
   "outputs": [
    {
     "name": "stdout",
     "output_type": "stream",
     "text": [
      "\"c is a\" False\n",
      "\"c.base is a\" True\n"
     ]
    }
   ],
   "source": [
    "#Разные объекты массивов могут использовать одни и те же данные. \n",
    "#Метод view() создает новый объект массива, \n",
    "#являющийся представлением тех же данных.\n",
    "a = np.array([1,2,3])\n",
    "c = a.view()\n",
    "print('\"c is a\"', c is a)\n",
    "print('\"c.base is a\"', c.base is a)  # c это представление данных, принадлежащих a"
   ]
  },
  {
   "cell_type": "code",
   "execution_count": 24,
   "metadata": {},
   "outputs": [
    {
     "name": "stdout",
     "output_type": "stream",
     "text": [
      "\"c.flags.owndata\" False\n",
      "\"a.flags.owndata\" True\n"
     ]
    }
   ],
   "source": [
    "print('\"c.flags.owndata\"', c.flags.owndata)\n",
    "print('\"a.flags.owndata\"', a.flags.owndata)"
   ]
  },
  {
   "cell_type": "code",
   "execution_count": 27,
   "metadata": {},
   "outputs": [
    {
     "name": "stdout",
     "output_type": "stream",
     "text": [
      "c.shape (1, 3)\n",
      "a.shape (3,)\n"
     ]
    }
   ],
   "source": [
    "c.shape = (1,3)\n",
    "print('c.shape', c.shape)  # форма c поменяется\n",
    "print('a.shape', a.shape)  # форма а не поменяется"
   ]
  },
  {
   "cell_type": "code",
   "execution_count": 31,
   "metadata": {},
   "outputs": [
    {
     "name": "stdout",
     "output_type": "stream",
     "text": [
      "a [   1 9999    3] c [[   1 9999    3]]\n"
     ]
    }
   ],
   "source": [
    "#данные меняются (в а) после замены элемента в с\n",
    "c[0, 1] = 9999\n",
    "print('a', a, 'c', c)"
   ]
  },
  {
   "cell_type": "code",
   "execution_count": 34,
   "metadata": {},
   "outputs": [
    {
     "name": "stdout",
     "output_type": "stream",
     "text": [
      "[[10 10]\n",
      " [10 10]]\n"
     ]
    }
   ],
   "source": [
    "#Срез массива это представление\n",
    "a = np.array([[1,2,3], [4,5,6]])\n",
    "s = a[:,1:3]\n",
    "s[:] = 10\n",
    "print(s)"
   ]
  },
  {
   "cell_type": "markdown",
   "metadata": {},
   "source": [
    "# Глубокая копия"
   ]
  },
  {
   "cell_type": "code",
   "execution_count": 37,
   "metadata": {},
   "outputs": [
    {
     "name": "stdout",
     "output_type": "stream",
     "text": [
      "False\n",
      "False\n",
      "[[ 1 10 10]\n",
      " [ 4 10 10]]\n"
     ]
    }
   ],
   "source": [
    "#Метод copy() создаст настоящую копию массива и его данных\n",
    "d = a.copy()  # создается новый объект массива с новыми данными\n",
    "print(d is a)\n",
    "print(d.base is a)  # d не имеет ничего общего с а\n",
    "d[0, 0] = 9999 #после изменения элемента в d - в а ничего не меняется\n",
    "print(a)"
   ]
  },
  {
   "cell_type": "markdown",
   "metadata": {},
   "source": [
    "# Ссылка на объект в памяти"
   ]
  },
  {
   "cell_type": "code",
   "execution_count": 17,
   "metadata": {},
   "outputs": [
    {
     "name": "stdout",
     "output_type": "stream",
     "text": [
      "a = \n",
      " [[6 2]\n",
      " [3 4]]\n",
      "b = \n",
      " [[6 2]\n",
      " [3 4]]\n"
     ]
    }
   ],
   "source": [
    "a = np.array([[1,2],[3,4]])\n",
    "b = a\n",
    "b[0,0] = 6\n",
    "print('a = \\n', a)\n",
    "print('b = \\n', b)"
   ]
  },
  {
   "cell_type": "markdown",
   "metadata": {},
   "source": [
    "# Инициализация значениями по умолчанию"
   ]
  },
  {
   "cell_type": "markdown",
   "metadata": {},
   "source": [
    "Можно создать массивы и инициализировать нулями или единицами. Для этого в NumPy существуют две говорящие сами за себя функции zeros() и ones()"
   ]
  },
  {
   "cell_type": "code",
   "execution_count": 87,
   "metadata": {},
   "outputs": [
    {
     "name": "stdout",
     "output_type": "stream",
     "text": [
      "[[0. 0. 0.]\n",
      " [0. 0. 0.]\n",
      " [0. 0. 0.]]\n"
     ]
    }
   ],
   "source": [
    "nd2 = np.zeros((3, 3))\n",
    "print(nd2)"
   ]
  },
  {
   "cell_type": "code",
   "execution_count": 88,
   "metadata": {},
   "outputs": [
    {
     "name": "stdout",
     "output_type": "stream",
     "text": [
      "[[1. 1. 1.]\n",
      " [1. 1. 1.]\n",
      " [1. 1. 1.]]\n"
     ]
    }
   ],
   "source": [
    "nd3 = np.ones((3, 3))\n",
    "print(nd3)"
   ]
  },
  {
   "cell_type": "code",
   "execution_count": 89,
   "metadata": {},
   "outputs": [
    {
     "name": "stdout",
     "output_type": "stream",
     "text": [
      "[[1. 0. 0.]\n",
      " [0. 1. 0.]\n",
      " [0. 0. 1.]]\n"
     ]
    }
   ],
   "source": [
    "#создание единичной матрицы\n",
    "nd4 = np.eye(3)\n",
    "print(nd4)"
   ]
  },
  {
   "cell_type": "code",
   "execution_count": 90,
   "metadata": {},
   "outputs": [
    {
     "name": "stdout",
     "output_type": "stream",
     "text": [
      "[[6.23042070e-307 4.67296746e-307 1.69121096e-306 9.34609111e-307]\n",
      " [1.11256817e-306 1.06811422e-306 1.42417221e-306 1.11260619e-306]\n",
      " [8.90094053e-307 1.86919378e-306 1.06809792e-306 1.37962456e-306]\n",
      " [1.69111861e-306 1.78020169e-306 1.37961777e-306 7.56599807e-307]]\n"
     ]
    }
   ],
   "source": [
    "#создание матрицы с мусорными значениями\n",
    "nd5 = np.empty((4,4))\n",
    "print(nd5)"
   ]
  },
  {
   "cell_type": "code",
   "execution_count": 7,
   "metadata": {},
   "outputs": [
    {
     "name": "stdout",
     "output_type": "stream",
     "text": [
      "[[-2 -2]\n",
      " [-2 -2]\n",
      " [-2 -2]]\n"
     ]
    }
   ],
   "source": [
    "#создание матрицы 3 на 2 и заполнение ее элементами -2 с типом int32\n",
    "x = np.full((3, 2), -2, np.int32)\n",
    "print(x)"
   ]
  },
  {
   "cell_type": "markdown",
   "metadata": {},
   "source": [
    "# Создание массива путем повторения элементов"
   ]
  },
  {
   "cell_type": "code",
   "execution_count": 8,
   "metadata": {},
   "outputs": [
    {
     "name": "stdout",
     "output_type": "stream",
     "text": [
      "[1 1 2 2 3 3 4 4 5 5 6 6]\n"
     ]
    }
   ],
   "source": [
    "x = np.array([[1,2,3],[4,5,6]])\n",
    "y = np.repeat(x,2)\n",
    "print(y)"
   ]
  },
  {
   "cell_type": "code",
   "execution_count": 9,
   "metadata": {},
   "outputs": [
    {
     "name": "stdout",
     "output_type": "stream",
     "text": [
      "[[1 2 3]\n",
      " [1 2 3]\n",
      " [4 5 6]\n",
      " [4 5 6]]\n"
     ]
    }
   ],
   "source": [
    "y = np.repeat(x, 2, axis=0)\n",
    "print(y)"
   ]
  },
  {
   "cell_type": "code",
   "execution_count": 10,
   "metadata": {},
   "outputs": [
    {
     "name": "stdout",
     "output_type": "stream",
     "text": [
      "[[1 1 2 2 3 3]\n",
      " [4 4 5 5 6 6]]\n"
     ]
    }
   ],
   "source": [
    "y = np.repeat(x, 2, axis=1)\n",
    "print(y)"
   ]
  },
  {
   "cell_type": "code",
   "execution_count": 13,
   "metadata": {},
   "outputs": [
    {
     "name": "stdout",
     "output_type": "stream",
     "text": [
      "[[1 1 3 3 3 3 3]\n",
      " [4 4 6 6 6 6 6]]\n"
     ]
    }
   ],
   "source": [
    "y = np.repeat(x, [2, 0, 5], axis = 1)\n",
    "print(y)"
   ]
  },
  {
   "cell_type": "code",
   "execution_count": 15,
   "metadata": {},
   "outputs": [
    {
     "name": "stdout",
     "output_type": "stream",
     "text": [
      "[[1 2 1 2 1 2]\n",
      " [3 4 3 4 3 4]\n",
      " [1 2 1 2 1 2]\n",
      " [3 4 3 4 3 4]]\n"
     ]
    }
   ],
   "source": [
    "#повторим по строкам 2 раза по столбцам 3 раза\n",
    "x = np.array([[1, 2], [3,4]])\n",
    "y = np.tile(x, (2,3))\n",
    "print(y)"
   ]
  },
  {
   "cell_type": "markdown",
   "metadata": {},
   "source": [
    "# Индексы, срезы, итерации"
   ]
  },
  {
   "cell_type": "code",
   "execution_count": 42,
   "metadata": {},
   "outputs": [
    {
     "name": "stdout",
     "output_type": "stream",
     "text": [
      "a\n",
      " [  0   1   8  27  64 125 216 343 512 729]\n",
      "a[1]\n",
      " 1\n",
      "a[3:7]\n",
      " [ 27  64 125 216]\n",
      "a[3:7] = 8\n",
      "    [  0   1   8   8   8   8   8 343 512 729]\n",
      "a[::-1]\n",
      "    [729 512 343   8   8   8   8   8   1   0]\n",
      "каждый элемент возводим в степень 1/3 0.0\n",
      "каждый элемент возводим в степень 1/3 1.0\n",
      "каждый элемент возводим в степень 1/3 2.0\n",
      "каждый элемент возводим в степень 1/3 2.0\n",
      "каждый элемент возводим в степень 1/3 2.0\n",
      "каждый элемент возводим в степень 1/3 2.0\n",
      "каждый элемент возводим в степень 1/3 2.0\n",
      "каждый элемент возводим в степень 1/3 6.999999999999999\n",
      "каждый элемент возводим в степень 1/3 7.999999999999999\n",
      "каждый элемент возводим в степень 1/3 8.999999999999998\n"
     ]
    }
   ],
   "source": [
    "a = np.arange(10) ** 3\n",
    "print('a\\n', a)\n",
    "print('a[1]\\n', a[1])\n",
    "print('a[3:7]\\n', a[3:7])\n",
    "a[3:7] = 8\n",
    "print('a[3:7] = 8\\n   ', a)\n",
    "print('a[::-1]\\n   ', a[::-1])\n",
    "#Невозможно удалить срез элементов\n",
    "#del a[4:6]\n",
    "#print('del a[4:6]\\n   ', a)\n",
    "for i in a:\n",
    "    print('каждый элемент возводим в степень 1/3', i ** (1/3))"
   ]
  },
  {
   "cell_type": "code",
   "execution_count": 55,
   "metadata": {
    "scrolled": true
   },
   "outputs": [
    {
     "name": "stdout",
     "output_type": "stream",
     "text": [
      "Вторая строка, третий столбец 23\n",
      "Вторая строка, третий столбец 23\n",
      "Вторая строка, третий столбец 23\n",
      "Третий столбец [ 2 12 22 32 42]\n",
      "Первые две строки [[ 0  1  2  3]\n",
      " [10 11 12 13]]\n",
      "Вторая и третья строки [[10 11 12 13]\n",
      " [20 21 22 23]]\n",
      "Последняя строка [40 41 42 43]\n",
      "первая строка b[1, ...]\n",
      " [10 11 12 13]\n",
      "второй столбец b[... ,2] [ 2 12 22 32 42]\n"
     ]
    }
   ],
   "source": [
    "b = np.array([[  0, 1, 2, 3],\n",
    "              [10, 11, 12, 13],\n",
    "              [20, 21, 22, 23],\n",
    "              [30, 31, 32, 33],\n",
    "              [40, 41, 42, 43]])\n",
    "print('Вторая строка, третий столбец', b[2,3])  # Вторая строка, третий столбец\n",
    "print('Вторая строка, третий столбец', b[(2,3)])\n",
    "print('Вторая строка, третий столбец', b[2][3])  # Можно и так\n",
    "print('Третий столбец', b[:,2])  # Третий столбец\n",
    "print('Первые две строки', b[:2])  # Первые две строки\n",
    "print('Вторая и третья строки', b[1:3, : : ])  # Вторая и третья строки\n",
    "print('Последняя строка', b[-1])  # Последняя строка. Эквивалентно b[-1,:]\n",
    "#x[1, 2, ...] эквивалентно x[1, 2, :, :, :]\n",
    "#x[... , 3] то же самое, что x[:, :, :, :, 3] \n",
    "#x[4, ... , 5, :] это x[4, :, :, 5, :]\n",
    "print('первая строка b[1, ...]\\n', b[1, ...])  # то же, что b[1, : , :] или b[1]\n",
    "print('второй столбец b[... ,2]', b[... ,2])  # то же, что b[: , : ,2]"
   ]
  },
  {
   "cell_type": "code",
   "execution_count": 31,
   "metadata": {},
   "outputs": [
    {
     "name": "stdout",
     "output_type": "stream",
     "text": [
      "[[0.95942292 0.24611286 0.97164448]\n",
      " [0.1196962  0.19440163 0.06352755]]\n"
     ]
    }
   ],
   "source": [
    "#делаем срез из массива\n",
    "y = x[2:4, 3:6]\n",
    "print(y)"
   ]
  },
  {
   "cell_type": "code",
   "execution_count": 32,
   "metadata": {},
   "outputs": [
    {
     "name": "stdout",
     "output_type": "stream",
     "text": [
      "[0.16488805 0.1196962  0.04687856]\n"
     ]
    }
   ],
   "source": [
    "y = x[[2,3,1], [0,3,5]]\n",
    "print(y)"
   ]
  },
  {
   "cell_type": "code",
   "execution_count": 33,
   "metadata": {},
   "outputs": [
    {
     "name": "stdout",
     "output_type": "stream",
     "text": [
      "[[0.36046883 0.24315335]\n",
      " [0.15791204 0.99406377]\n",
      " [0.96334803 0.97537189]]\n"
     ]
    }
   ],
   "source": [
    "y = x[[2,0,3], :] [:, [-2,1]]\n",
    "print(y)"
   ]
  },
  {
   "cell_type": "code",
   "execution_count": 37,
   "metadata": {},
   "outputs": [
    {
     "name": "stdout",
     "output_type": "stream",
     "text": [
      "[ 5  0  6  2  5 -2]\n",
      "[[ 2 -3  1]\n",
      " [ 2  4  0]\n",
      " [-5  4  3]\n",
      " [ 2  0 -4]]\n"
     ]
    }
   ],
   "source": [
    "x = np.array([[-1,2,4], [2,-3,1], [2,4,0], [-5,4,3], [3,1,1], [2,0,-4]])\n",
    "row_sums = x.sum(axis=1)\n",
    "print(row_sums)\n",
    "y = x[row_sums % 2 == 0, :]\n",
    "print(y)\n"
   ]
  },
  {
   "cell_type": "markdown",
   "metadata": {},
   "source": [
    "# Итерирование"
   ]
  },
  {
   "cell_type": "code",
   "execution_count": 27,
   "metadata": {},
   "outputs": [
    {
     "name": "stdout",
     "output_type": "stream",
     "text": [
      "итерирование построчно\n",
      "\n",
      "[9 1]\n",
      "[2 3]\n",
      "[4 5]\n",
      "\n",
      "итерирование поэлементно b.flat\n",
      "\n",
      "9\n",
      "1\n",
      "2\n",
      "3\n",
      "4\n",
      "5\n",
      "\n",
      "итерирование поэлементно np.ravel(b)\n",
      "\n",
      "Element 9\n",
      "Element 1\n",
      "Element 2\n",
      "Element 3\n",
      "Element 4\n",
      "Element 5\n"
     ]
    }
   ],
   "source": [
    "#при использовании \"for ... in\" итерация выполняется только по первой размерности\n",
    "\n",
    "#итерирование начинается по строкам\n",
    "print('итерирование построчно\\n')\n",
    "for row in b:\n",
    "    print(row)\n",
    "    \n",
    "#если нужно перебрать поэлементно весь массив, \n",
    "#как если бы он был одномерным, \n",
    "#для этого можно использовать атрибут flat\n",
    "print('\\nитерирование поэлементно b.flat\\n')\n",
    "for el in b.flat:\n",
    "    print(el)\n",
    "    \n",
    "#чтобы сделать итерацию по всем элементам используем ravel \n",
    "print('\\nитерирование поэлементно np.ravel(b)\\n')\n",
    "for i in np.ravel(b): \n",
    "    print('Element', i)\n",
    "#flatten возвращает копию. \n",
    "#ravel возвращает представление оригинального массива"
   ]
  },
  {
   "cell_type": "markdown",
   "metadata": {},
   "source": [
    "# Создание массива той же формы"
   ]
  },
  {
   "cell_type": "code",
   "execution_count": 20,
   "metadata": {},
   "outputs": [
    {
     "name": "stdout",
     "output_type": "stream",
     "text": [
      "zeros_like(x)\n",
      " [[0. 0.]\n",
      " [0. 0.]\n",
      " [0. 0.]]\n",
      "empty_like(x)\n",
      " [[0. 0.]\n",
      " [0. 0.]\n",
      " [0. 0.]]\n",
      "ones_like(x)\n",
      " [[1. 1.]\n",
      " [1. 1.]\n",
      " [1. 1.]]\n"
     ]
    }
   ],
   "source": [
    "x = np.array([[1,2],[3,4],[5,6]], dtype=np.float64)\n",
    "y = np.zeros_like(x)\n",
    "print('zeros_like(x)\\n', y)\n",
    "z = np.empty_like(x)\n",
    "print('empty_like(x)\\n', z)\n",
    "w = np.ones_like(x)\n",
    "print('ones_like(x)\\n', w)"
   ]
  },
  {
   "cell_type": "code",
   "execution_count": 26,
   "metadata": {},
   "outputs": [
    {
     "name": "stdout",
     "output_type": "stream",
     "text": [
      "full_like(x, 6.2, np.float64)\n",
      " [[6.2 6.2]\n",
      " [6.2 6.2]]\n"
     ]
    }
   ],
   "source": [
    "x = np.array([[1,1], [2,2]])\n",
    "p = np.full_like(x, 6.2, np.float64)\n",
    "print('full_like(x, 6.2, np.float64)\\n', p)\n"
   ]
  },
  {
   "cell_type": "code",
   "execution_count": 29,
   "metadata": {},
   "outputs": [
    {
     "name": "stdout",
     "output_type": "stream",
     "text": [
      "[2.5 'string' list([2, 4]) {'a': 0, 'b': 1}]\n",
      "[[None None]\n",
      " [None None]]\n"
     ]
    }
   ],
   "source": [
    "#формируем массив с типом данных - \"object\"\n",
    "t = np.array([2.5, 'string', [2,4], {'a': 0, 'b':1}], dtype=object)\n",
    "print(t)\n",
    "x = np.empty((2,2), dtype=np.object)\n",
    "print(x)"
   ]
  },
  {
   "cell_type": "raw",
   "metadata": {},
   "source": [
    "# Математические функции"
   ]
  },
  {
   "cell_type": "code",
   "execution_count": 91,
   "metadata": {},
   "outputs": [
    {
     "name": "stdout",
     "output_type": "stream",
     "text": [
      "[0 1 2 3 4]\n"
     ]
    }
   ],
   "source": [
    "#arange создает массив, состоящий из n элементов — от 0 до n — 1\n",
    "nd6 = np.arange(5)\n",
    "print(nd6)"
   ]
  },
  {
   "cell_type": "code",
   "execution_count": 92,
   "metadata": {},
   "outputs": [
    {
     "name": "stdout",
     "output_type": "stream",
     "text": [
      "[-3 -1  1  3  5  7  9]\n"
     ]
    }
   ],
   "source": [
    "#от -3 до 10 с шагом 2\n",
    "nd7 = np.arange(-3, 10, 2)\n",
    "print(nd7)"
   ]
  },
  {
   "cell_type": "code",
   "execution_count": 93,
   "metadata": {},
   "outputs": [
    {
     "name": "stdout",
     "output_type": "stream",
     "text": [
      "Девять элементов выбранных функцией linspace в диапазоне от 0 до 2:  [0.   0.25 0.5  0.75 1.   1.25 1.5  1.75 2.  ]\n",
      "Данные преобразованны в другой тип:  [0 0 0 0 1 1 1 1 2]\n"
     ]
    }
   ],
   "source": [
    "#Функция linspace() (можно использовать вместо arange), \n",
    "#которая вместо шага в качестве одного из аргументов принимает число, \n",
    "#равное количеству нужных элементов\n",
    "nd7_= np.linspace(0, 2, 9)  # 9 чисел от 0 до 2 включительно\n",
    "print('Девять элементов выбранных функцией linspace в диапазоне от 0 до 2: ', nd7_)\n",
    "#Преобразование типа данных\n",
    "nd7_= np.linspace(0, 2, 9).astype('int64')\n",
    "print('Данные преобразованны в другой тип: ', nd7_)"
   ]
  },
  {
   "cell_type": "code",
   "execution_count": 94,
   "metadata": {},
   "outputs": [
    {
     "name": "stdout",
     "output_type": "stream",
     "text": [
      "np.sin:  [-0.14112001 -0.84147098  0.84147098  0.14112001 -0.95892427  0.6569866   0.41211849]\n",
      "np.cos:  [-0.9899925   0.54030231  0.54030231 -0.9899925   0.28366219  0.75390225 -0.91113026]\n",
      "np.arctan:  [-1.24904577 -0.78539816  0.78539816  1.24904577  1.37340077  1.42889927  1.46013911]\n",
      "np.abs:  [3 1 1 3 5 7 9]\n",
      "np.sign:  [-1 -1  1  1  1  1  1]\n"
     ]
    }
   ],
   "source": [
    "#функции примененяются поочередно к каждому элементу многомерного массива\n",
    "print('np.sin: ', np.sin(nd7))\n",
    "print('np.cos: ', np.cos(nd7))\n",
    "print('np.arctan: ', np.arctan(nd7))\n",
    "print('np.abs: ', np.abs(nd7))\n",
    "print('np.sign: ', np.sign(nd7))"
   ]
  },
  {
   "cell_type": "markdown",
   "metadata": {},
   "source": [
    "# random"
   ]
  },
  {
   "cell_type": "code",
   "execution_count": 7,
   "metadata": {},
   "outputs": [
    {
     "name": "stdout",
     "output_type": "stream",
     "text": [
      "использование random.random\n",
      " [0.99334987 0.37162527 0.5252237  0.99780718 0.02361839 0.21879408\n",
      " 0.94088405 0.67866132 0.46777055 0.07645201]\n",
      "использование random.randint\n",
      " [10  4  9 10 20  5 18 14 14  5]\n"
     ]
    }
   ],
   "source": [
    "import random\n",
    "print('использование random.random\\n', np.array([random.random() for i in range(10)]))\n",
    "print('использование random.randint\\n', np.array([random.randint(2,20) for i in range(10)]))"
   ]
  },
  {
   "cell_type": "code",
   "execution_count": 12,
   "metadata": {},
   "outputs": [
    {
     "name": "stdout",
     "output_type": "stream",
     "text": [
      " \"np.random\"  <module 'numpy.random' from 'C:\\\\Users\\\\user\\\\Anaconda3\\\\lib\\\\site-packages\\\\numpy\\\\random\\\\__init__.py'>\n",
      " \"rand\"  <module 'numpy.random' from 'C:\\\\Users\\\\user\\\\Anaconda3\\\\lib\\\\site-packages\\\\numpy\\\\random\\\\__init__.py'>\n"
     ]
    }
   ],
   "source": [
    "import numpy as np  # Импортировать numpy и писать np.random\n",
    "print(' \"np.random\" ', np.random)\n",
    "import numpy.random as rand  # Можно и присвоить отдельное имя. Вопрос вкуса\n",
    "print(' \"rand\" ', rand)"
   ]
  },
  {
   "cell_type": "markdown",
   "metadata": {},
   "source": [
    "# Создание массивов с использованием random и др"
   ]
  },
  {
   "cell_type": "code",
   "execution_count": 19,
   "metadata": {},
   "outputs": [
    {
     "name": "stdout",
     "output_type": "stream",
     "text": [
      "np.random.sample() 0.8687158884888498\n",
      "np.random.sample(1) [0.49027137]\n",
      "np.random.sample(3) [0.46922293 0.75684649 0.30930943]\n",
      "np.random.sample((4,5)\n",
      " [[0.58815378 0.81053814 0.37050376 0.63188258 0.72315358]\n",
      " [0.87084598 0.54158302 0.37441092 0.78426813 0.93435703]\n",
      " [0.95683574 0.61552116 0.84738879 0.51868688 0.56818797]\n",
      " [0.72906412 0.67274675 0.05565758 0.03480726 0.38808328]]\n"
     ]
    }
   ],
   "source": [
    "#Самый простой способ задать массив со случайными элементами - использовать функцию sample \n",
    "#(или random, или random_sample, или ranf - это всё одна и та же функция).\n",
    "print('np.random.sample()', np.random.sample())\n",
    "print('np.random.sample(1)', np.random.sample(1))\n",
    "print('np.random.sample(3)', np.random.sample(3))\n",
    "print('np.random.sample((4,5)\\n', np.random.sample((4,5)))\n",
    "#Без аргументов возвращает просто число в промежутке [0, 1), с одним целым числом - одномерный \n",
    "#массив, с кортежем - массив с размерами, указанными в кортеже (все числа - из промежутка [0, 1))"
   ]
  },
  {
   "cell_type": "code",
   "execution_count": 23,
   "metadata": {},
   "outputs": [
    {
     "name": "stdout",
     "output_type": "stream",
     "text": [
      "np.random.randint(0, 3, 10) [1 0 0 0 1 2 1 0 2 1]\n",
      "np.random.random_integers(0, 3, 10) [2 2 2 0 2 1 3 3 2 0]\n",
      "np.random.randint(0, 3, (2, 10))\n",
      " [[0 2 0 2 2 2 0 2 1 1]\n",
      " [1 2 1 1 0 2 2 1 1 0]]\n"
     ]
    },
    {
     "name": "stderr",
     "output_type": "stream",
     "text": [
      "C:\\Users\\user\\Anaconda3\\lib\\site-packages\\ipykernel_launcher.py:5: DeprecationWarning: This function is deprecated. Please call randint(0, 3 + 1) instead\n",
      "  \"\"\"\n"
     ]
    }
   ],
   "source": [
    "#С помощью функции randint или random_integers можно создать массив из целых чисел. \n",
    "#Аргументы: low, high, size: от какого, до какого числа (randint не включает \n",
    "#в себя это число, а random_integers включает), и size - размеры массива.\n",
    "print('np.random.randint(0, 3, 10)', np.random.randint(0, 3, 10))\n",
    "print('np.random.random_integers(0, 3, 10)', np.random.random_integers(0, 3, 10))\n",
    "print('np.random.randint(0, 3, (2, 10))\\n', np.random.randint(0, 3, (2, 10)))"
   ]
  },
  {
   "cell_type": "code",
   "execution_count": 26,
   "metadata": {},
   "outputs": [
    {
     "name": "stdout",
     "output_type": "stream",
     "text": [
      "np.random.uniform(2, 8, (2, 5))\n",
      " [[5.01631538 2.87507769 6.51937602 3.85930457 2.98897365]\n",
      " [2.75222134 4.34037968 6.0100418  3.80511568 3.44275423]]\n"
     ]
    }
   ],
   "source": [
    "#Также можно генерировать числа согласно различным распределениям (Гаусса, Парето и другие). \n",
    "#Распределение с помощь функции uniform\n",
    "print('np.random.uniform(2, 8, (2, 5))\\n', np.random.uniform(2, 8, (2, 5)))"
   ]
  },
  {
   "cell_type": "markdown",
   "metadata": {},
   "source": [
    "# Выбор и перемешивание"
   ]
  },
  {
   "cell_type": "code",
   "execution_count": 30,
   "metadata": {},
   "outputs": [
    {
     "name": "stdout",
     "output_type": "stream",
     "text": [
      "до перемешивания [0 1 2 3 4 5 6 7 8 9]\n",
      "после перемешивания shuffle [0 6 7 1 5 3 9 2 4 8]\n"
     ]
    }
   ],
   "source": [
    "#Перемешать NumPy массив можно с помощью функции shuffle\n",
    "a = np.arange(10)\n",
    "print('до перемешивания', a)\n",
    "np.random.shuffle(a)\n",
    "print('после перемешивания shuffle', a)"
   ]
  },
  {
   "cell_type": "code",
   "execution_count": 35,
   "metadata": {},
   "outputs": [
    {
     "name": "stdout",
     "output_type": "stream",
     "text": [
      "permutation создает перемешнную копию [9 5 0 1 8 7 3 2 4 6]\n",
      "g [0 1 2 3 4 5 6]\n",
      "permutation создает перемешнную копию g [3 5 2 0 4 1 6]\n",
      "r [9 8 7 6 5 4]\n",
      "permutation создает перемешнную копию r [8 7 9 5 6 4]\n"
     ]
    }
   ],
   "source": [
    "#Также можно перемешать массив с помощью функции permutation (она, \n",
    "#в отличие от shuffle, возвращает перемешанный массив). Также она, \n",
    "#вызванная с одним аргументом (целым числом), возвращает перемешанную \n",
    "#последовательность от 0 до N.\n",
    "print('permutation создает перемешнную копию', np.random.permutation(10))\n",
    "\n",
    "g = np.arange(7)\n",
    "print('g', g)\n",
    "print('permutation создает перемешнную копию g', np.random.permutation(g))\n",
    "r = np.array([9, 8, 7, 6, 5, 4])\n",
    "print('r', r)\n",
    "print('permutation создает перемешнную копию r', np.random.permutation(r))"
   ]
  },
  {
   "cell_type": "code",
   "execution_count": 38,
   "metadata": {},
   "outputs": [
    {
     "name": "stdout",
     "output_type": "stream",
     "text": [
      "a [0 1 2 3 4 5 6 7 8 9]\n",
      "использование random.choice [0 0 2 1 0 0 1 0 2 1]\n"
     ]
    }
   ],
   "source": [
    "#Сделать случайную выборку из массива можно с помощью функции choice. \n",
    "np.random.choice(a, size=None, replace=True, p=None)\n",
    "#a : одномерный массив или число\n",
    "#size : размерности массива\n",
    "#replace : если True, то одно значение может выбираться более одного раза\n",
    "\n",
    "#p : вероятности. Это означает, что элементы можно выбирать с неравными \n",
    "#вероятностями. Если не заданы, используется равномерное распределение\n",
    "a = np.arange(10)\n",
    "print('a', a)\n",
    "h = np.random.choice(a, 10, p=[0.5, 0.25, 0.25, 0, 0, 0, 0, 0, 0, 0])\n",
    "print('использование random.choice', h)\n"
   ]
  },
  {
   "cell_type": "markdown",
   "metadata": {},
   "source": [
    "# Инициализация генератора случайных чисел"
   ]
  },
  {
   "cell_type": "code",
   "execution_count": 43,
   "metadata": {},
   "outputs": [
    {
     "name": "stdout",
     "output_type": "stream",
     "text": [
      "seed=1000 [0.65358959 0.11500694 0.95028286 0.4821914  0.87247454 0.21233268\n",
      " 0.04070962 0.39719446 0.2331322  0.84174072]\n",
      "seed=100 [0.54340494 0.27836939 0.42451759 0.84477613 0.00471886 0.12156912\n",
      " 0.67074908 0.82585276 0.13670659 0.57509333]\n",
      "seed=1000 [0.65358959 0.11500694 0.95028286 0.4821914  0.87247454 0.21233268\n",
      " 0.04070962 0.39719446 0.2331322  0.84174072]\n"
     ]
    }
   ],
   "source": [
    "#seed(число) - инициализация генератора\n",
    "np.random.seed(1000)\n",
    "print('seed=1000', np.random.random(10))\n",
    "np.random.seed(100)\n",
    "print('seed=100', np.random.random(10))\n",
    "np.random.seed(1000)\n",
    "print('seed=1000', np.random.random(10))"
   ]
  },
  {
   "cell_type": "code",
   "execution_count": 45,
   "metadata": {},
   "outputs": [
    {
     "name": "stdout",
     "output_type": "stream",
     "text": [
      "state\n",
      " ('MT19937', array([      1000, 4252021385, 1724402292,  571538732,   73690720,\n",
      "       4283493349, 2222270404, 2464917285,  427676011, 1101193792,\n",
      "       2887716015, 3670250828, 1664757559, 1538426459, 1540041616,\n",
      "       1315948868, 1639142729,  962342265, 1073918415, 1993958489,\n",
      "        417312460, 1549738641,  217559782, 2562763477, 3209786859,\n",
      "       2560374278, 4171592622, 3387504732,  382145687, 3400593072,\n",
      "       2993747901,  895481210, 2542805826, 3850053729, 3839975628,\n",
      "       3814914254, 4140621317, 2614021763,  916554251,  782053758,\n",
      "         99808478, 3086444991, 2623397051,   20321832, 3880396276,\n",
      "        743647648, 2708868174, 1178306091, 4084099266, 1776655702,\n",
      "       2854986373, 3806486134, 2567889245, 2534654384, 2438049136,\n",
      "       3777589297,  734135794, 1515772595, 1156942452, 3240836452,\n",
      "       2075941087, 3002064339,  856579251, 3777715678, 3630321009,\n",
      "        811110459, 1304263305, 3423346667, 3174285004, 1982367115,\n",
      "        741968312, 2708393439, 3656220025, 4180593515, 3391678546,\n",
      "        749601088, 3356606092, 4158895544, 2234828309, 3933566562,\n",
      "       2237177237,  191691748, 3892864326, 3932479884, 4117464255,\n",
      "       1318582913,  813978838, 2406874821, 2857829339, 1817355766,\n",
      "       3039668685, 3817653766, 2728774997,  934187696, 2804944846,\n",
      "        754870235,  552611015, 3022596580, 1223925280, 1722027112,\n",
      "       3963360977, 2477351743, 1520094327, 4122464501, 3474134902,\n",
      "       3930644114, 2949802143,  273304412,  254277560, 3294508037,\n",
      "       3609967820, 3388294426, 1601021005, 3779231341, 1374076888,\n",
      "       2544095760, 3582690190, 4266417174, 2449117631, 1745134856,\n",
      "       3580227077, 3351387863, 4192312862, 3798722284,  934347719,\n",
      "       3259825408,  182152621, 2986269376, 1877745930,  287632600,\n",
      "        540608954, 4174078181, 2908901698, 1040535237, 2460123455,\n",
      "        368157336, 2323676800, 3052633043, 2768876287, 4001891164,\n",
      "        286272519, 2334269008, 2465061096, 3880898273,  187404730,\n",
      "        759367923, 2111935345, 2851478467, 4047125689, 2005893111,\n",
      "       1053958820, 1609396043,  742490826, 1348252747, 1997847500,\n",
      "       2991181180, 2626191698,  406770989,   18493535, 3654348058,\n",
      "       3321818237,  697613399, 3671711221, 3380033713, 3997081822,\n",
      "        618052822, 3852535572, 2868124602, 1999398976,  236383054,\n",
      "        706319472, 2610397403, 2292774729, 3188569156, 3335231052,\n",
      "       3521877210, 2190007117,  277138908,  127136894,   44622953,\n",
      "       4189933345, 1492609823,  398610828, 2820806899, 4016296141,\n",
      "       2059509759, 2499087856, 1656947509, 1511200832, 3611974498,\n",
      "        652474115, 1547046894, 2472816907, 3892587086, 1751311907,\n",
      "       3206217261, 2666950735,  661554214, 1482455492, 3389618304,\n",
      "       1456449399, 3167041623, 1799862099, 1336161829, 4156465408,\n",
      "       1836392956, 2287062687, 1914931648, 1023714037, 1589405818,\n",
      "       4087090265, 3986885205, 2452953794, 3582217877, 2036025348,\n",
      "       3467712464, 4234367511, 1755846333,  765433094,   31457849,\n",
      "       3122684505, 3622207940,  165000033,  301313828, 2326027796,\n",
      "       2211243407, 1770653315, 2256413741, 1651142255,  907571275,\n",
      "        566849917, 4171279416, 2905376559, 3575868074, 1101825687,\n",
      "        858873881, 3415690185, 2496004511, 4031162591,  172121019,\n",
      "       4116858039,  930443253,  636635547,  154664474, 2227776310,\n",
      "        703127673, 1481658803,  658931249, 1471087437, 1742993909,\n",
      "       3277926974,  887519244, 2373962168,  846537055, 2494235257,\n",
      "        556322438,  424227294,  715291543, 3680473749, 4232125489,\n",
      "        992273086, 1847010299, 1161297064, 2045518004, 3097281905,\n",
      "       2779345512, 3808091868, 4200089094,  141512197,  583890438,\n",
      "       1902298988,  145556496, 3755944800, 3036224032, 3291579004,\n",
      "        198669358, 2389669178, 2889627693, 2333889185,  282777190,\n",
      "       2816290134, 1154537277,  473434054, 3702392889, 3836103166,\n",
      "       4112422638,  810639775, 1555209178, 3470569863, 1118678581,\n",
      "       4096495526,  781318716, 2787497680, 1151476735, 4247593564,\n",
      "        248276898, 1737004562,  263741864, 1805217906,  668723594,\n",
      "         75759262,  162005891,  364871389, 3279704928, 3026313791,\n",
      "       2019289154, 1231257249,  694457939, 1231469299,  607208623,\n",
      "       1509605697, 4195975031, 3178257916, 2576614511, 3904836923,\n",
      "       1246124115, 4114791318, 1992933382,  160269057, 2163685796,\n",
      "       3404567998,  151599570, 2907910940, 4127210009, 3152336774,\n",
      "        758819929, 2161156451, 3461584268, 2364311987, 2665024798,\n",
      "       4285147478, 2454965460, 1971869626, 2681909524,  967222524,\n",
      "       3220042939, 3454504781, 4214114583, 1307216438, 1023473670,\n",
      "       3863417266,  173585706,  974714088, 3644901599, 2953903140,\n",
      "       2058211927, 1954415432, 1215847976, 3774879881, 3052505551,\n",
      "       1269109823, 3853003733,  363385550, 2416798375, 2313183611,\n",
      "        805254944, 2249253124, 2621374147, 3195456651,  471008372,\n",
      "       1343149868, 1698495274, 2510691425, 2054107002, 4272132083,\n",
      "        773798685, 3267352799, 1052920891, 3071322039,  356845786,\n",
      "       2347706740,  482706177,  235878873, 3538285842,  609667627,\n",
      "       1939588974, 1111037763,  684097667,  413913129, 2874020520,\n",
      "       2557499534, 3213483193, 1168190021, 2416972371,  475763829,\n",
      "       2647077034,  221780938,  948441653, 4209020269, 1816767467,\n",
      "       2440498904, 2061600649, 1094337072, 1690261470, 2694644613,\n",
      "       1904649422, 2918895159, 3686840694, 1148963255, 2411920477,\n",
      "        194341387,  301972200, 4047693594, 3670052720, 3403818227,\n",
      "       1401750597, 1002902634, 1717422441, 4120977312, 3287594984,\n",
      "       1902531665, 2393773355, 1411402697, 3955486597, 4096145276,\n",
      "       3745504698, 1575582877,  957458221, 2225671011,  158296040,\n",
      "        250030124, 1055287041, 1527590411, 1948026265, 3655798432,\n",
      "       3379757816, 4292182449, 3582095077,  437835882,  981736831,\n",
      "        744594377, 3445623036, 1051526475,  455424840, 2707549466,\n",
      "       2938922027, 3879499489,  782752479, 1282650801,  924168487,\n",
      "       2741880091,  678962582, 2459835368, 4038541069, 2859229250,\n",
      "       3724819197, 2687448564, 3090870733,  726806379, 2193226232,\n",
      "       1744595812, 2815585692, 2046873370, 2665753196, 1539022124,\n",
      "       3764197768, 2922608799, 3458571450, 3401897927, 3984393759,\n",
      "       2505860824,  678772687, 3356554617,  811934961, 3879964133,\n",
      "       1306596239, 2653271768, 2343686101, 2822901927, 3447447534,\n",
      "       2016423767, 3350312133, 1547979254,  742874956, 1430013654,\n",
      "       2257716142, 3846602936, 2563890852, 3112021852, 3842080757,\n",
      "       1858872302, 3310229036,  284617069,  844132068,  491767256,\n",
      "       3393300509,  800154556, 3380606739, 2082736952, 2663968870,\n",
      "       4037565790, 3589184668, 1968038823,  941140075,  315143973,\n",
      "       1899368584, 3639400701, 1820560423,  317760240, 4105353891,\n",
      "       3401794324,  126994696, 3763444254, 2658554984, 3737258442,\n",
      "       3393810246, 1114101043, 2959925429,  943167791, 4080179336,\n",
      "       3596981205, 1158339437, 2628345756, 3092269399, 2352901515,\n",
      "       2281605648, 1036918046,  599297243,  422430573, 3737388296,\n",
      "       2438324831, 3113293242,  317000610, 2969914101, 3975529599,\n",
      "       2994791161, 2133778965, 3808946163, 1691218880,  318404150,\n",
      "       2307754848,  740127165,   27723429, 3556175406, 1159532247,\n",
      "       2168545925, 2721521755, 4001261110, 3825447427, 3451337755,\n",
      "       4246441876, 1020819376, 1598319246, 1894617994, 1585289975,\n",
      "       2218117935, 2100248547, 3288475725, 2123212522, 1889771484,\n",
      "       2619758935, 1849867696,  330273277, 1934622714,  845828913,\n",
      "       3167686016, 2188961910, 2034617329,  104654814,  221203141,\n",
      "       2853105385, 3257731048,  275637481, 3644523296,  585824771,\n",
      "       2694135908,   86179956, 3040429051,  214373493, 2142286178,\n",
      "       2371418441, 3599794130, 2787133617, 1384741852, 3264357743,\n",
      "       2409861595, 3179589085, 2608722492, 2265301688,  630284197,\n",
      "       3624733533,  801950811, 1873171757, 4100466851, 3342182760,\n",
      "        365108352, 3350905034, 3478692504,  322575475, 4199270060,\n",
      "       2416053337, 2749928758,  654816212, 3759302901, 3895005536,\n",
      "       3493255522, 1570746009, 1251425357,  318994514, 1040211121,\n",
      "       3700837677, 4208726911, 2544176710, 1016923951, 4178902759,\n",
      "       2850854481, 3339631645,  944654389, 1895423049, 2943251145,\n",
      "        428797817,  735788576, 3567166724, 1075371304, 4031329427,\n",
      "        703778615, 1546727963,  166637739, 2690922721, 1009839866,\n",
      "       4027061518,  365905294, 1440838004, 4259078808], dtype=uint32), 624, 0, 0.0)\n"
     ]
    },
    {
     "data": {
      "text/plain": [
       "array([0.65358959, 0.11500694, 0.95028286, 0.4821914 , 0.87247454,\n",
       "       0.21233268, 0.04070962, 0.39719446, 0.2331322 , 0.84174072])"
      ]
     },
     "execution_count": 45,
     "metadata": {},
     "output_type": "execute_result"
    }
   ],
   "source": [
    "#get_state и set_state - возвращают и устанавливают состояние генератора\n",
    "np.random.seed(1000)\n",
    "#get_state возвращает кортеж, представляющий внутреннее состояние генератора\n",
    "state = np.random.get_state()\n",
    "print('state\\n', state)\n",
    "np.random.random(10)"
   ]
  },
  {
   "cell_type": "markdown",
   "metadata": {},
   "source": [
    "# Агрегационные функции"
   ]
  },
  {
   "cell_type": "code",
   "execution_count": 33,
   "metadata": {},
   "outputs": [
    {
     "name": "stdout",
     "output_type": "stream",
     "text": [
      "нормальное распределение arr1:  [[-1.02370025 -0.64418404 -1.41875037 -0.28652715]\n",
      " [ 1.27297679 -1.19561044  0.11308307 -1.59318959]\n",
      " [-1.98562454 -3.35420824  0.59507814  0.40950329]\n",
      " [ 0.39668482  0.95767481 -2.14502566  0.72081611]]\n",
      "равномерное распределение arr2:  [[0.41104924 0.11537719 0.06595501 0.1001126 ]\n",
      " [0.93428817 0.65122214 0.18430973 0.6698361 ]\n",
      " [0.07565008 0.62356269 0.25629467 0.19657088]\n",
      " [0.94575891 0.27138801 0.44098143 0.31097561]]\n"
     ]
    }
   ],
   "source": [
    "#сгенерируем массив размера 4×4 из нормального распределения\n",
    "arr1 = np.random.randn(4,4)\n",
    "print('нормальное распределение arr1: ', arr1)\n",
    "#сгенерируем массив размера 4×4 из равномерного распределения\n",
    "arr2 = np.random.rand(4,4)\n",
    "print('равномерное распределение arr2: ', arr2)"
   ]
  },
  {
   "cell_type": "code",
   "execution_count": 36,
   "metadata": {},
   "outputs": [
    {
     "name": "stdout",
     "output_type": "stream",
     "text": [
      "sum(arr1):  -9.181003247701446\n",
      "sum(arr2):  6.253332468180036\n",
      "mean(arr1):  -0.5738127029813404\n",
      "mean(arr2):  0.3908332792612523\n",
      "std(arr1):  1.2698706630848695\n",
      "std(arr2):  0.2839930600953234\n",
      "var(arr1):  1.612571500963606\n",
      "var(arr2):  0.08065205818230596\n"
     ]
    }
   ],
   "source": [
    "#Применяем агрегационные функции\n",
    "#sum() — подсчитывает сумму всех элементов в массиве\n",
    "#mean() — находим среднее арифметическое\n",
    "#std() — возвращает значение стандартного отклонения\n",
    "#var() — возвращает значение дисперсии (разброса) элементов массива\n",
    "print('sum(arr1): ', np.sum(arr1))\n",
    "print('sum(arr2): ', np.sum(arr2))\n",
    "print('mean(arr1): ', np.mean(arr1))\n",
    "print('mean(arr2): ', np.mean(arr2))\n",
    "print('std(arr1): ', np.std(arr1))\n",
    "print('std(arr2): ', np.std(arr2))\n",
    "print('var(arr1): ', np.var(arr1))\n",
    "print('var(arr2): ', np.var(arr2))"
   ]
  },
  {
   "cell_type": "code",
   "execution_count": 104,
   "metadata": {},
   "outputs": [
    {
     "name": "stdout",
     "output_type": "stream",
     "text": [
      "arr1\n",
      " [[ 1 20  3]\n",
      " [ 4  5  6]]\n",
      "min среди всех элементов:  1\n",
      "max среди всех элементов:  20\n",
      "max элемент в каждом столбце [ 4 20  6]\n",
      "max элемент в каждой строке [20  6]\n"
     ]
    }
   ],
   "source": [
    "arr1_ = np.array([[1, 20, 3], [4, 5, 6]], dtype='int16')\n",
    "print('arr1\\n', arr1_)\n",
    "print('min среди всех элементов: ', arr1_.min())\n",
    "print('max среди всех элементов: ', arr1_.max())\n",
    "print('max элемент в каждом столбце', arr1_.max(axis=0))\n",
    "print('max элемент в каждой строке', arr1_.max(axis=1))"
   ]
  },
  {
   "cell_type": "markdown",
   "metadata": {},
   "source": [
    "# Индексация"
   ]
  },
  {
   "cell_type": "code",
   "execution_count": 36,
   "metadata": {},
   "outputs": [
    {
     "name": "stdout",
     "output_type": "stream",
     "text": [
      "a[i] = \n",
      " [ 2  6 10  4]\n",
      "a[i] = \n",
      " [[ 2  6]\n",
      " [10  4]]\n",
      "a  [ 0  2  4  6  8 10]\n",
      "a>4  [False False False  True  True  True]\n",
      "a[a>4]  [ 6  8 10]\n"
     ]
    }
   ],
   "source": [
    "a = np.arange(6)*2\n",
    "i = np.array([1,3,5,2])\n",
    "print('a[i] = \\n', a[i])\n",
    "i = np.array([[1,3],[5,2]])\n",
    "print('a[i] = \\n', a[i])\n",
    "#использование bool для индексации/отбора\n",
    "print('a ', a)\n",
    "print('a>4 ', a>4)\n",
    "print('a[a>4] ', a[a>4])"
   ]
  },
  {
   "cell_type": "markdown",
   "metadata": {},
   "source": [
    "# Создание массива на основе функции, принимающей индексы (номера элементов)"
   ]
  },
  {
   "cell_type": "code",
   "execution_count": 14,
   "metadata": {},
   "outputs": [
    {
     "name": "stdout",
     "output_type": "stream",
     "text": [
      "Создание массива с использованием функции (arr3):\n",
      " [[0. 1. 2. 3.]\n",
      " [2. 3. 4. 5.]\n",
      " [4. 5. 6. 7.]]\n"
     ]
    }
   ],
   "source": [
    "arr3 = np.fromfunction(lambda i, j: 2*i + j, (3, 4))\n",
    "print('Создание массива с использованием функции (arr3):\\n', arr3)"
   ]
  },
  {
   "cell_type": "code",
   "execution_count": 16,
   "metadata": {},
   "outputs": [
    {
     "name": "stdout",
     "output_type": "stream",
     "text": [
      "Создание массива с использованием функции:\n",
      " [[0. 1. 2. 3.]\n",
      " [3. 4. 5. 6.]\n",
      " [6. 7. 8. 9.]]\n"
     ]
    }
   ],
   "source": [
    "#i- индекс строки, j - индекс столбца\n",
    "def f1(i, j):\n",
    "    return 3 * i + j\n",
    "print('Создание массива с использованием функции:\\n', np.fromfunction(f1, (3, 4)))\n"
   ]
  },
  {
   "cell_type": "code",
   "execution_count": 15,
   "metadata": {},
   "outputs": [
    {
     "name": "stdout",
     "output_type": "stream",
     "text": [
      "[[ True False False]\n",
      " [False  True False]\n",
      " [False False  True]]\n"
     ]
    }
   ],
   "source": [
    "a = np.fromfunction(lambda i,j: i==j, (3,3))\n",
    "print(a)"
   ]
  },
  {
   "cell_type": "markdown",
   "metadata": {},
   "source": [
    "# Печать массивов"
   ]
  },
  {
   "cell_type": "code",
   "execution_count": 44,
   "metadata": {},
   "outputs": [
    {
     "name": "stdout",
     "output_type": "stream",
     "text": [
      "[   0    1    2    3    4\n",
      "    5    6    7    8    9\n",
      "   10   11   12   13   14\n",
      "   15   16   17   18   19\n",
      " ...  981  982  983  984\n",
      "  985  986  987  988  989\n",
      "  990  991  992  993  994\n",
      "  995  996  997  998  999\n",
      " 1000]\n"
     ]
    }
   ],
   "source": [
    "print(np.arange(0, 1001, 1))"
   ]
  },
  {
   "cell_type": "code",
   "execution_count": 45,
   "metadata": {},
   "outputs": [
    {
     "name": "stdout",
     "output_type": "stream",
     "text": [
      "[ 0  1  2  3  4  5  6  7\n",
      "  8  9 10 11 12 13 14 15\n",
      " 16 17 18 19]\n"
     ]
    }
   ],
   "source": [
    "np.set_printoptions(threshold=10)\n",
    "print(np.arange(0, 20, 1))"
   ]
  },
  {
   "cell_type": "code",
   "execution_count": 46,
   "metadata": {},
   "outputs": [
    {
     "name": "stdout",
     "output_type": "stream",
     "text": [
      "Использование функции numpy.set_printoptions:\n",
      " [ 0  1  2  3  4  5  6  7\n",
      "  8  9 10 11 12 13 14 15\n",
      " 16 17 18 19]\n"
     ]
    }
   ],
   "source": [
    "# Использование функции numpy.set_printoptions, чтобы увидеть весь массив\n",
    "np.set_printoptions(threshold=30)\n",
    "print('Использование функции numpy.set_printoptions:\\n', np.arange(0, 20, 1))"
   ]
  },
  {
   "cell_type": "code",
   "execution_count": 72,
   "metadata": {},
   "outputs": [
    {
     "name": "stdout",
     "output_type": "stream",
     "text": [
      "Использование функции numpy.set_printoptions:\n",
      " [ 0  1  2  3  4  5  6  7  8  9 10 11 12 13 14 15 16 17 18 19 ... 30 31 32 33 34 35 36 37 38 39 40 41 42 43 44 45 46 47 48 49]\n"
     ]
    }
   ],
   "source": [
    "#Аргументы функции numpy.set_printoptions\n",
    "'''precision : количество отображаемых цифр после запятой (по умолчанию 8).\n",
    "\n",
    "threshold : количество элементов в массиве, вызывающее обрезание элементов (по умолчанию 1000).\n",
    "\n",
    "edgeitems : количество элементов в начале и в конце каждой размерности массива (по умолчанию 3).\n",
    "\n",
    "linewidth : количество символов в строке, после которых осуществляется перенос (по умолчанию 75).\n",
    "\n",
    "suppress : если True, не печатает маленькие значения в scientific notation (по умолчанию False).\n",
    "\n",
    "nanstr : строковое представление NaN (по умолчанию 'nan').\n",
    "\n",
    "infstr : строковое представление inf (по умолчанию 'inf').\n",
    "\n",
    "formatter : позволяет более тонко управлять печатью массивов.'''\n",
    "np.set_printoptions(threshold=30, edgeitems=20, linewidth=260)\n",
    "print('Использование функции numpy.set_printoptions:\\n', np.arange(0, 50, 1))"
   ]
  },
  {
   "cell_type": "markdown",
   "metadata": {},
   "source": [
    "# Базовые операции"
   ]
  },
  {
   "cell_type": "code",
   "execution_count": 59,
   "metadata": {},
   "outputs": [
    {
     "name": "stdout",
     "output_type": "stream",
     "text": [
      "Поэлементное сложение массивов:  [20 31 42 53]\n",
      "Поэлементное вычитание массивов:  [20 29 38 47]\n",
      "Поэлементное перемножение массивов:  [  0  30  80 150]\n",
      "Поэлементное деление массивов:\n",
      " [        inf 30.\n",
      " 20.         16.66666667]\n",
      "Поэлементное возведение в степень массивов:\n",
      " [     1     30   1600\n",
      " 125000]\n",
      "Поэлементное целочисленное деление массивов:\n",
      " [ 0 30 20 16]\n",
      "Поэлементное взятие остатока от деления массивов:\n",
      " [0 0 0 2]\n"
     ]
    },
    {
     "name": "stderr",
     "output_type": "stream",
     "text": [
      "C:\\Users\\user\\Anaconda3\\lib\\site-packages\\ipykernel_launcher.py:10: RuntimeWarning: divide by zero encountered in true_divide\n",
      "  # Remove the CWD from sys.path while we load stuff.\n",
      "C:\\Users\\user\\Anaconda3\\lib\\site-packages\\ipykernel_launcher.py:12: RuntimeWarning: divide by zero encountered in floor_divide\n",
      "  if sys.path[0] == '':\n",
      "C:\\Users\\user\\Anaconda3\\lib\\site-packages\\ipykernel_launcher.py:13: RuntimeWarning: divide by zero encountered in remainder\n",
      "  del sys.path[0]\n"
     ]
    }
   ],
   "source": [
    "#Математические операции над массивами выполняются поэлементно. \n",
    "#Создается новый массив, который заполняется результатами действия оператора.\n",
    "#Массивы должны быть одинаковых размеров.\n",
    "\n",
    "a = np.array([20, 30, 40, 50])\n",
    "b = np.arange(4)\n",
    "print('Поэлементное сложение массивов: ', a + b)\n",
    "print('Поэлементное вычитание массивов: ', a - b)\n",
    "print('Поэлементное перемножение массивов: ', a * b)\n",
    "print('Поэлементное деление массивов:\\n', a / b)\n",
    "print('Поэлементное возведение в степень массивов:\\n', a ** b)\n",
    "print('Поэлементное целочисленное деление массивов:\\n', a // b)\n",
    "print('Поэлементное взятие остатока от деления массивов:\\n', a % b)"
   ]
  },
  {
   "cell_type": "code",
   "execution_count": 70,
   "metadata": {},
   "outputs": [
    {
     "name": "stdout",
     "output_type": "stream",
     "text": [
      "a =  [17 27 37 47]\n",
      "a + 1 =  [18 28 38 48]\n",
      "a ** 3 =  [  4913  19683  50653\n",
      " 103823]\n",
      "Операция со старым массивом (a -= 1) : [16 26 36 46]\n"
     ]
    }
   ],
   "source": [
    "#Можно производить математические операции между массивом и числом. \n",
    "#В этом случае к каждому элементу прибавляется это число.\n",
    "#Данные операции создают новый массив не меняя старый.\n",
    "print('a = ', a)\n",
    "print('a + 1 = ', a + 1)\n",
    "print('a ** 3 = ', a ** 3)\n",
    "#Данная операция изменяет старый массив\n",
    "a -= 1\n",
    "print('Операция со старым массивом (a -= 1) :', a)"
   ]
  },
  {
   "cell_type": "code",
   "execution_count": 82,
   "metadata": {},
   "outputs": [
    {
     "name": "stdout",
     "output_type": "stream",
     "text": [
      "a < 35 : [ True  True  True  True  True  True  True  True False  True False]\n",
      "Отбираем элементы, которые меньше 10 (a[a < 10]) :\n",
      " [  5   0 -13   4  -1  -7]\n"
     ]
    }
   ],
   "source": [
    "#Фильтрация\n",
    "a = np.array([5, 0, 20, -13, 25, 4, 30, -1, 40, -7, 50], dtype='int32')\n",
    "print('a < 35 :', a < 35)\n",
    "print('Отбираем элементы, которые меньше 10 (a[a < 10]) :\\n', a[a < 10])"
   ]
  },
  {
   "cell_type": "markdown",
   "metadata": {},
   "source": [
    "#  NumPy"
   ]
  },
  {
   "cell_type": "code",
   "execution_count": 42,
   "metadata": {},
   "outputs": [
    {
     "name": "stdout",
     "output_type": "stream",
     "text": [
      "[[-10.18 -32.14   5.39  12.33]\n",
      " [ 11.08  -4.72  10.44  22.08]]\n"
     ]
    }
   ],
   "source": [
    "#Перемножение матриц\n",
    "a = np.array([[2.3, 4.5, -3.1], [1.2, 3.2, 4.0]])\n",
    "b = np.array([[2.1, -4.6, 0.5, 2.2], [-1.2, -3.0, 1.7, 3.2], [3.1, 2.6, 1.1, 2.3]])\n",
    "c = a.dot(b)\n",
    "print(c)"
   ]
  },
  {
   "cell_type": "code",
   "execution_count": 61,
   "metadata": {},
   "outputs": [
    {
     "name": "stdout",
     "output_type": "stream",
     "text": [
      "a\n",
      " [[ 1  2  3]\n",
      " [ 4  5  6]\n",
      " [ 7  8 10]]\n",
      "a.T\n",
      " [[ 1  4  7]\n",
      " [ 2  5  8]\n",
      " [ 3  6 10]]\n",
      "возведение в степень 2 матрицы a\n",
      " [[ 30  36  45]\n",
      " [ 66  81 102]\n",
      " [109 134 169]]\n",
      "1*1+2*4+3*7=30\n",
      "d 2.0\n",
      "разложение Холецкого\n",
      " [[ 2.44948974  0.        ]\n",
      " [-0.81649658  0.57735027]]\n"
     ]
    }
   ],
   "source": [
    "#модуль numpy.linalg, позволяет делать многие операции из линейной алгебры\n",
    "a = np.array([[1,2,3], [4,5,6], [7,8,10]])\n",
    "print('a\\n', a)\n",
    "print('a.T\\n', a.T)\n",
    "#Возведение в степень\n",
    "# linalg.matrix_power(M, n) - возводит матрицу в степень n\n",
    "print('возведение в степень 2 матрицы a\\n', np.linalg.matrix_power(a, 2))\n",
    "print('1*1+2*4+3*7=30')\n",
    "#Разложения\n",
    "#linalg.cholesky(a) - разложение Холецкого\n",
    "#Разложе́ние Холе́цкого — представление симметричной положительно-определённой \n",
    "#матрицы  A в виде A=LL^T\n",
    "#где L — нижняя треугольная матрица со строго положительными элементами на диагонали\n",
    "c = np.array([[6,-2], [-2,1]])\n",
    "#linalg.det(a) - определитель\n",
    "d = np.linalg.det(c)\n",
    "print('d', d)\n",
    "print('разложение Холецкого\\n', np.linalg.cholesky(c))"
   ]
  },
  {
   "cell_type": "code",
   "execution_count": 66,
   "metadata": {},
   "outputs": [
    {
     "name": "stdout",
     "output_type": "stream",
     "text": [
      "QR - разложение матрицы\n",
      " (array([[-0.9486833 ,  0.31622777],\n",
      "       [ 0.31622777,  0.9486833 ]]), array([[-6.32455532,  2.21359436],\n",
      "       [ 0.        ,  0.31622777]]))\n",
      "svd разложение - возвращает поцентру матрицу сингулярных чисел, слева и справа - унитарные вектора \n",
      " (array([[-0.99250756,  0.12218326],\n",
      "       [ 0.12218326,  0.99250756]]), array([7.86522342, 2.03427152]), array([[-0.78820544, -0.61541221],\n",
      "       [-0.61541221,  0.78820544]]))\n"
     ]
    }
   ],
   "source": [
    "#linalg.qr(a[, mode]) - QR разложение\n",
    "#QR - разложение матрицы — представление матрицы в виде произведения унитарной \n",
    "#(или ортогональной матрицы) и верхнетреугольной матрицы. QR-разложение является \n",
    "#основой одного из методов поиска собственных векторов и чисел матрицы QR алгоритма\n",
    "# A = Q * R, Q - унитарная мартица n на n, R - верхнетреугольная матрица n на n\n",
    "l = np.array([[6,-2], [-2,1]])\n",
    "print('QR - разложение матрицы\\n', np.linalg.qr(l))\n",
    "\n",
    "\n",
    "#linalg.svd(a[, full_matrices, compute_uv]) - сингулярное разложение\n",
    "#Сингуля́рное разложе́ние — определённого типа разложение прямоугольной матрицы. \n",
    "#Имеющее широкое применение, в силу своей наглядной геометрической интерпретации, \n",
    "#при решении многих прикладных задач. \n",
    "z = np.array([[6,5], [-2,1]])\n",
    "print('svd разложение - возвращает поцентру матрицу сингулярных чисел, слева и справа - унитарные вектора \\n', np.linalg.svd(z))"
   ]
  },
  {
   "cell_type": "code",
   "execution_count": 71,
   "metadata": {},
   "outputs": [
    {
     "name": "stdout",
     "output_type": "stream",
     "text": [
      "собственные значения и собственные векторы\n",
      " (array([16.70749332, -0.90574018,  0.19824686]), array([[-0.22351336, -0.86584578,  0.27829649],\n",
      "       [-0.50394563,  0.0856512 , -0.8318468 ],\n",
      "       [-0.83431444,  0.4929249 ,  0.48018951]]))\n",
      "собственные значения \n",
      " [16.70749332 -0.90574018  0.19824686]\n",
      "собственные вектора\n",
      " [[-0.22351336 -0.86584578  0.27829649]\n",
      " [-0.50394563  0.0856512  -0.8318468 ]\n",
      " [-0.83431444  0.4929249   0.48018951]]\n"
     ]
    }
   ],
   "source": [
    "#linalg.eig(a) - собственные значения и собственные векторы\n",
    "print('собственные значения и собственные векторы\\n', np.linalg.eig(a))\n",
    "print('собственные значения \\n', np.linalg.eig(a)[0])\n",
    "print('собственные вектора\\n', np.linalg.eig(a)[1])"
   ]
  },
  {
   "cell_type": "code",
   "execution_count": 73,
   "metadata": {},
   "outputs": [
    {
     "name": "stdout",
     "output_type": "stream",
     "text": [
      "норма вектора или оператора\n",
      " 19.0\n"
     ]
    }
   ],
   "source": [
    "#linalg.norm(x[, ord, axis]) - норма вектора или оператора\n",
    "print('норма вектора или оператора\\n', np.linalg.norm(a, 1))"
   ]
  },
  {
   "cell_type": "code",
   "execution_count": 75,
   "metadata": {},
   "outputs": [
    {
     "name": "stdout",
     "output_type": "stream",
     "text": [
      "число обусловленности\n",
      " 88.4482799206987\n"
     ]
    }
   ],
   "source": [
    "#linalg.cond(x[, p]) - число обусловленности\n",
    "print('число обусловленности\\n', np.linalg.cond(a))"
   ]
  },
  {
   "cell_type": "code",
   "execution_count": 76,
   "metadata": {},
   "outputs": [
    {
     "name": "stdout",
     "output_type": "stream",
     "text": [
      "знак и логарифм определителя \n",
      " (-1.0, 1.09861228866811)\n"
     ]
    }
   ],
   "source": [
    "#linalg.slogdet(a) - знак и логарифм определителя \n",
    "#(для избежания переполнения, если сам определитель очень маленький)\n",
    "print('знак и логарифм определителя \\n', np.linalg.slogdet(a))"
   ]
  },
  {
   "cell_type": "code",
   "execution_count": 79,
   "metadata": {},
   "outputs": [
    {
     "name": "stdout",
     "output_type": "stream",
     "text": [
      "решение систем линейных уравнений,x1, x2 \n",
      " [ 40. -30.]\n"
     ]
    }
   ],
   "source": [
    "#linalg.solve(a, b) - решает систему линейных уравнений Ax = b\n",
    "A = np.array([[1, 1], [2, 3]])\n",
    "b = np.array([10, -10])\n",
    "print('решение систем линейных уравнений,x1, x2 \\n', np.linalg.solve(A, b))\n",
    "\n",
    "#linalg.tensorsolve(a, b[, axes]) - решает тензорную систему линейных уравнений Ax = b"
   ]
  },
  {
   "cell_type": "code",
   "execution_count": 84,
   "metadata": {},
   "outputs": [
    {
     "name": "stdout",
     "output_type": "stream",
     "text": [
      "метод наименьших квадратов, x1, x2 \n",
      " (array([-1., -1.]), array([], dtype=float64), 1, array([3.16227766e+00, 8.22677308e-17]))\n",
      "метод наименьших квадратов, x1, x2 \n",
      " (array([-1., -1.]), array([], dtype=float64), 1, array([3.16227766e+00, 8.22677308e-17]))\n",
      "a\n",
      " [[ 1  2  3]\n",
      " [ 4  5  6]\n",
      " [ 7  8 10]]\n",
      "обратная матрица \n",
      " [[-0.66666667 -1.33333333  1.        ]\n",
      " [-0.66666667  3.66666667 -2.        ]\n",
      " [ 1.         -2.          1.        ]]\n"
     ]
    },
    {
     "name": "stderr",
     "output_type": "stream",
     "text": [
      "C:\\Users\\user\\Anaconda3\\lib\\site-packages\\ipykernel_launcher.py:2: FutureWarning: `rcond` parameter will change to the default of machine precision times ``max(M, N)`` where M and N are the input matrix dimensions.\n",
      "To use the future default and silence this warning we advise to pass `rcond=None`, to keep using the old, explicitly pass `rcond=-1`.\n",
      "  \n",
      "C:\\Users\\user\\Anaconda3\\lib\\site-packages\\ipykernel_launcher.py:6: FutureWarning: `rcond` parameter will change to the default of machine precision times ``max(M, N)`` where M and N are the input matrix dimensions.\n",
      "To use the future default and silence this warning we advise to pass `rcond=None`, to keep using the old, explicitly pass `rcond=-1`.\n",
      "  \n"
     ]
    }
   ],
   "source": [
    "#linalg.lstsq(a, b[, rcond]) - метод наименьших квадратов\n",
    "print('метод наименьших квадратов, x1, x2 \\n', np.linalg.lstsq(A, b))\n",
    "\n",
    "A = np.array([[1, 1], [2, 2]])\n",
    "b = np.array([10, -10])\n",
    "print('метод наименьших квадратов, x1, x2 \\n', np.linalg.lstsq(A, b))\n",
    "\n",
    "#linalg.inv(a) - обратная матрица\n",
    "print('a\\n', a)\n",
    "print('обратная матрица \\n', np.linalg.inv(a))"
   ]
  },
  {
   "cell_type": "markdown",
   "metadata": {},
   "source": [
    "# Протокол ufunc "
   ]
  },
  {
   "cell_type": "code",
   "execution_count": 41,
   "metadata": {},
   "outputs": [
    {
     "name": "stdout",
     "output_type": "stream",
     "text": [
      "x [0.         0.78539816 1.57079633 2.35619449 3.14159265 3.92699082\n",
      " 4.71238898 5.49778714]\n",
      "y [1.         1.70710678 2.         1.70710678 1.         0.29289322\n",
      " 0.         0.29289322]\n"
     ]
    }
   ],
   "source": [
    "#Протокол ufunc применяет функцию к каждому элементу массива(произвольной вложенности)\n",
    "x = np.pi * np.arange(0,2,0.25)\n",
    "y = np.sin(x)+1\n",
    "print('x', x)\n",
    "print('y', y)"
   ]
  },
  {
   "cell_type": "markdown",
   "metadata": {},
   "source": [
    "# Использование masked arrays"
   ]
  },
  {
   "cell_type": "code",
   "execution_count": 43,
   "metadata": {},
   "outputs": [
    {
     "data": {
      "text/plain": [
       "'masked_array(data=[1.0, 3.2, --, 4.3, 5.4],\\n             mask=[False, False,  True, False, False],\\n       fill_value=1e+20)'"
      ]
     },
     "execution_count": 43,
     "metadata": {},
     "output_type": "execute_result"
    }
   ],
   "source": [
    "import numpy.ma as ma\n",
    "x = np.array([1.0, 3.2, -2.1, 4.3, 5.4])\n",
    "xm = ma.masked_array(x, [0, 0, 1, 0, 0])\n",
    "repr(xm)"
   ]
  },
  {
   "cell_type": "code",
   "execution_count": 44,
   "metadata": {},
   "outputs": [
    {
     "name": "stdout",
     "output_type": "stream",
     "text": [
      "[[ 0  1  2  3  4]\n",
      " [ 2  3  4  5  6]\n",
      " [ 4  5  6  7  8]\n",
      " [ 6  7  8  9 10]\n",
      " [ 8  9 10 11 12]]\n",
      "[[0 1 2 3 --]\n",
      " [2 3 -- -- --]\n",
      " [-- -- -- 7 8]\n",
      " [-- 7 8 9 10]\n",
      " [8 9 10 11 12]]\n"
     ]
    }
   ],
   "source": [
    "x = np.array([[i+j for j in range(i, i+5)]\n",
    "             for i in range(5)])\n",
    "xm = ma.masked_inside(x,4,6)\n",
    "print(x)\n",
    "print(xm)"
   ]
  },
  {
   "cell_type": "code",
   "execution_count": null,
   "metadata": {},
   "outputs": [],
   "source": [
    "#Функции\n",
    "#masked_equal(x,v)\n",
    "#masked_greater(x,v)\n",
    "#masked_greater_equal(x,v)\n",
    "#masked_insidel(x,v1, v2)\n",
    "#masked_invalid(x)\n",
    "#masked_less(x,v)\n",
    "#masked_not_equal(x,v)\n",
    "#masked_outside(x,v1,v2)\n",
    "#masked_where(condition,v)"
   ]
  },
  {
   "cell_type": "markdown",
   "metadata": {},
   "source": [
    "# Сохранение и загрузка"
   ]
  },
  {
   "cell_type": "code",
   "execution_count": 9,
   "metadata": {},
   "outputs": [],
   "source": [
    "#сохранение\n",
    "x = np.random.rand(200,300)\n",
    "np.savetxt('array_x.txt', x)"
   ]
  },
  {
   "cell_type": "code",
   "execution_count": 13,
   "metadata": {},
   "outputs": [
    {
     "name": "stdout",
     "output_type": "stream",
     "text": [
      "0.3097003557257807 0.3097003557257807\n"
     ]
    }
   ],
   "source": [
    "#загрузка\n",
    "x1 = np.loadtxt('array_x.txt')\n",
    "print(x[0, 0], x1[0, 0])"
   ]
  },
  {
   "cell_type": "code",
   "execution_count": 19,
   "metadata": {},
   "outputs": [],
   "source": [
    "# csv формат\n",
    "m, n = 10, 5\n",
    "x = np.random.rand(m,n)\n",
    "columns = ','.join(['Column {}'.format(str(i+1)) for i in range(n)])\n",
    "np.savetxt('array_x.csv', x, delimiter=',', header=columns, comments='')"
   ]
  },
  {
   "cell_type": "code",
   "execution_count": 20,
   "metadata": {},
   "outputs": [],
   "source": [
    "#бинарный формат\n",
    "x = np.random.rand(200, 220)\n",
    "np.save('array_x.npy', x)"
   ]
  },
  {
   "cell_type": "code",
   "execution_count": 21,
   "metadata": {},
   "outputs": [],
   "source": [
    "x = np.random.rand(200, 220)\n",
    "y = np.random.rand(20)\n",
    "z = np.random.rand(10,5,7)\n",
    "np.savez('arrays_xyz.npz', xfile=x, yfile=y, zfile=z)"
   ]
  },
  {
   "cell_type": "code",
   "execution_count": 22,
   "metadata": {},
   "outputs": [],
   "source": [
    "#сохраняем сжатый файл\n",
    "np.savez_compressed('arrays_xyz_c.npz', xfile=x, yfile=y, zfile=z)"
   ]
  },
  {
   "cell_type": "code",
   "execution_count": 25,
   "metadata": {},
   "outputs": [
    {
     "data": {
      "text/plain": [
       "0.1326137996135549"
      ]
     },
     "execution_count": 25,
     "metadata": {},
     "output_type": "execute_result"
    }
   ],
   "source": [
    "x = np.load('array_x.npy') \n",
    "x[0][0]"
   ]
  },
  {
   "cell_type": "code",
   "execution_count": 30,
   "metadata": {},
   "outputs": [
    {
     "name": "stdout",
     "output_type": "stream",
     "text": [
      "['xfile', 'yfile', 'zfile']\n",
      "0.6527349674288406\n"
     ]
    }
   ],
   "source": [
    "arrays = np.load('arrays_xyz.npz')\n",
    "x, y, z =[arrays[name] for name in ['xfile', 'yfile', 'zfile']]\n",
    "print(list(arrays.keys()))\n",
    "print(x[0,0])"
   ]
  },
  {
   "cell_type": "markdown",
   "metadata": {},
   "source": [
    "# Символьные вычисления"
   ]
  },
  {
   "cell_type": "code",
   "execution_count": 7,
   "metadata": {},
   "outputs": [
    {
     "name": "stdout",
     "output_type": "stream",
     "text": [
      "x =  r*cos(theta) y =  r*sin(theta)\n"
     ]
    }
   ],
   "source": [
    "from sympy import *\n",
    "import numpy as np\n",
    "init_printing(use_latex=True)\n",
    "r, theta = symbols('r, theta')\n",
    "x = r * cos(theta)\n",
    "y = r * sin(theta)\n",
    "print('x = ', x, 'y = ', y)"
   ]
  },
  {
   "cell_type": "code",
   "execution_count": 12,
   "metadata": {},
   "outputs": [
    {
     "name": "stdout",
     "output_type": "stream",
     "text": [
      "Полярные координаты: \n",
      " r_values = [ 2.   1.5 -3. ] theta_values = [ 0.78539816  1.57079633 -3.14159265]\n",
      "Декартовые координаты: \n",
      " xvalues =  [1.41421356e+00 9.18485099e-17 3.00000000e+00] yvalues =  [1.41421356e+00 1.50000000e+00 3.67394040e-16]\n"
     ]
    }
   ],
   "source": [
    "polar_to_rectangular = lambdify((r, theta), (x,y), modules='numpy')\n",
    "r_values = np.array([2, 1.5, -3])\n",
    "theta_values = np.array([np.pi/4, np.pi/2, -np.pi])\n",
    "print('Полярные координаты: \\n', 'r_values =', r_values, 'theta_values =', theta_values)\n",
    "xvalues, yvalues = polar_to_rectangular(r_values, theta_values)\n",
    "print('Декартовые координаты: \\n', 'xvalues = ', xvalues, 'yvalues = ', yvalues)"
   ]
  }
 ],
 "metadata": {
  "kernelspec": {
   "display_name": "Python 3",
   "language": "python",
   "name": "python3"
  },
  "language_info": {
   "codemirror_mode": {
    "name": "ipython",
    "version": 3
   },
   "file_extension": ".py",
   "mimetype": "text/x-python",
   "name": "python",
   "nbconvert_exporter": "python",
   "pygments_lexer": "ipython3",
   "version": "3.7.0"
  }
 },
 "nbformat": 4,
 "nbformat_minor": 2
}
