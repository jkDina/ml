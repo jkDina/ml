{
 "cells": [
  {
   "cell_type": "markdown",
   "metadata": {},
   "source": [
    "# Numpy"
   ]
  },
  {
   "cell_type": "code",
   "execution_count": 1,
   "metadata": {},
   "outputs": [],
   "source": [
    "#импорт библиотеки numpy\n",
    "import numpy as np"
   ]
  },
  {
   "cell_type": "code",
   "execution_count": 3,
   "metadata": {},
   "outputs": [
    {
     "name": "stdout",
     "output_type": "stream",
     "text": [
      "[[1 1 0]\n",
      " [1 0 1]]\n"
     ]
    }
   ],
   "source": [
    "#создание массива\n",
    "nd = np.array([[1, 1, 0], [1, 0, 1]])\n",
    "print(nd)"
   ]
  },
  {
   "cell_type": "markdown",
   "metadata": {},
   "source": [
    "# Свойства массива"
   ]
  },
  {
   "cell_type": "code",
   "execution_count": 11,
   "metadata": {
    "scrolled": true
   },
   "outputs": [
    {
     "name": "stdout",
     "output_type": "stream",
     "text": [
      "Число измерений массива (размерность,ранг) (nd.ndim):  2\n",
      "Размеры массива (nd.shape):  (2, 3)\n",
      "Общее количество всех элементов (nd.size):  6\n",
      "Тип элемента в массиве (nd.dtype):  int32\n",
      "type nd1 (nd1.dtype):  float32\n",
      "Pазмер одного элемента массива, указанный в байтах (nd.itemsize):  4\n"
     ]
    }
   ],
   "source": [
    "print('Число измерений массива (размерность,ранг) (nd.ndim): ', nd.ndim)\n",
    "print('Размеры массива (nd.shape): ', nd.shape)\n",
    "print('Общее количество всех элементов (nd.size): ', nd.size)\n",
    "print('Тип элемента в массиве (nd.dtype): ', nd.dtype)\n",
    "#Указываем тип данных при создании\n",
    "nd1 = np.array([[1, 1, 0], [1, 0, 1]], dtype=np.float32)\n",
    "print('type nd1 (nd1.dtype): ', nd1.dtype)\n",
    "print('Pазмер одного элемента массива, указанный в байтах (nd.itemsize): ', nd.itemsize)"
   ]
  },
  {
   "cell_type": "markdown",
   "metadata": {},
   "source": [
    "# Инициализация значениями по умолчанию"
   ]
  },
  {
   "cell_type": "markdown",
   "metadata": {},
   "source": [
    "Можно создать массивы и инициализировать нулями или единицами. Для этого в NumPy существуют две говорящие сами за себя функции zeros() и ones()"
   ]
  },
  {
   "cell_type": "code",
   "execution_count": 13,
   "metadata": {},
   "outputs": [
    {
     "name": "stdout",
     "output_type": "stream",
     "text": [
      "[[0. 0. 0.]\n",
      " [0. 0. 0.]\n",
      " [0. 0. 0.]]\n"
     ]
    }
   ],
   "source": [
    "nd2 = np.zeros((3, 3))\n",
    "print(nd2)"
   ]
  },
  {
   "cell_type": "code",
   "execution_count": 15,
   "metadata": {},
   "outputs": [
    {
     "name": "stdout",
     "output_type": "stream",
     "text": [
      "[[1. 1. 1.]\n",
      " [1. 1. 1.]\n",
      " [1. 1. 1.]]\n"
     ]
    }
   ],
   "source": [
    "nd3 = np.ones((3, 3))\n",
    "print(nd3)"
   ]
  },
  {
   "cell_type": "code",
   "execution_count": 16,
   "metadata": {},
   "outputs": [
    {
     "name": "stdout",
     "output_type": "stream",
     "text": [
      "[[1. 0. 0.]\n",
      " [0. 1. 0.]\n",
      " [0. 0. 1.]]\n"
     ]
    }
   ],
   "source": [
    "#создание единичной матрицы\n",
    "nd4 = np.eye(3)\n",
    "print(nd4)"
   ]
  },
  {
   "cell_type": "code",
   "execution_count": 24,
   "metadata": {},
   "outputs": [
    {
     "name": "stdout",
     "output_type": "stream",
     "text": [
      "[[6.23042070e-307 4.67296746e-307 1.69121096e-306 9.34609111e-307]\n",
      " [1.11256817e-306 1.06811422e-306 1.42417221e-306 1.11260619e-306]\n",
      " [8.90094053e-307 1.86919378e-306 1.06809792e-306 1.37962456e-306]\n",
      " [1.69111861e-306 1.78020169e-306 1.37961777e-306 7.56599807e-307]]\n"
     ]
    }
   ],
   "source": [
    "#создание матрицы с мусорными значениями\n",
    "nd5 = np.empty((4,4))\n",
    "print(nd5)"
   ]
  },
  {
   "cell_type": "markdown",
   "metadata": {},
   "source": [
    "# Математические функции"
   ]
  },
  {
   "cell_type": "code",
   "execution_count": 25,
   "metadata": {},
   "outputs": [
    {
     "name": "stdout",
     "output_type": "stream",
     "text": [
      "[0 1 2 3 4]\n"
     ]
    }
   ],
   "source": [
    "#arange создает массив, состоящий из n элементов — от 0 до n — 1\n",
    "nd6 = np.arange(5)\n",
    "print(nd6)"
   ]
  },
  {
   "cell_type": "code",
   "execution_count": 27,
   "metadata": {},
   "outputs": [
    {
     "name": "stdout",
     "output_type": "stream",
     "text": [
      "[-3 -1  1  3  5  7  9]\n"
     ]
    }
   ],
   "source": [
    "#от -3 до 10 с шагом 2\n",
    "nd7 = np.arange(-3, 10, 2)\n",
    "print(nd7)"
   ]
  },
  {
   "cell_type": "code",
   "execution_count": 29,
   "metadata": {},
   "outputs": [
    {
     "name": "stdout",
     "output_type": "stream",
     "text": [
      "np.sin:  [-0.14112001 -0.84147098  0.84147098  0.14112001 -0.95892427  0.6569866\n",
      "  0.41211849]\n",
      "np.cos:  [-0.9899925   0.54030231  0.54030231 -0.9899925   0.28366219  0.75390225\n",
      " -0.91113026]\n",
      "np.abs:  [3 1 1 3 5 7 9]\n",
      "np.sign:  [-1 -1  1  1  1  1  1]\n"
     ]
    }
   ],
   "source": [
    "#функции примененяются поочередно к каждому элементу многомерного массива\n",
    "print('np.sin: ', np.sin(nd7))\n",
    "print('np.cos: ', np.cos(nd7))\n",
    "print('np.abs: ', np.abs(nd7))\n",
    "print('np.sign: ', np.sign(nd7))"
   ]
  },
  {
   "cell_type": "markdown",
   "metadata": {},
   "source": [
    "# Агрегационные функции"
   ]
  },
  {
   "cell_type": "code",
   "execution_count": 33,
   "metadata": {},
   "outputs": [
    {
     "name": "stdout",
     "output_type": "stream",
     "text": [
      "нормальное распределение arr1:  [[-1.02370025 -0.64418404 -1.41875037 -0.28652715]\n",
      " [ 1.27297679 -1.19561044  0.11308307 -1.59318959]\n",
      " [-1.98562454 -3.35420824  0.59507814  0.40950329]\n",
      " [ 0.39668482  0.95767481 -2.14502566  0.72081611]]\n",
      "равномерное распределение arr2:  [[0.41104924 0.11537719 0.06595501 0.1001126 ]\n",
      " [0.93428817 0.65122214 0.18430973 0.6698361 ]\n",
      " [0.07565008 0.62356269 0.25629467 0.19657088]\n",
      " [0.94575891 0.27138801 0.44098143 0.31097561]]\n"
     ]
    }
   ],
   "source": [
    "#сгенерируем массив размера 4×4 из нормального распределения\n",
    "arr1 = np.random.randn(4,4)\n",
    "print('нормальное распределение arr1: ', arr1)\n",
    "#сгенерируем массив размера 4×4 из равномерного распределения\n",
    "arr2 = np.random.rand(4,4)\n",
    "print('равномерное распределение arr2: ', arr2)"
   ]
  },
  {
   "cell_type": "code",
   "execution_count": 36,
   "metadata": {},
   "outputs": [
    {
     "name": "stdout",
     "output_type": "stream",
     "text": [
      "sum(arr1):  -9.181003247701446\n",
      "sum(arr2):  6.253332468180036\n",
      "mean(arr1):  -0.5738127029813404\n",
      "mean(arr2):  0.3908332792612523\n",
      "std(arr1):  1.2698706630848695\n",
      "std(arr2):  0.2839930600953234\n",
      "var(arr1):  1.612571500963606\n",
      "var(arr2):  0.08065205818230596\n"
     ]
    }
   ],
   "source": [
    "#Применяем агрегационные функции\n",
    "#sum() — подсчитывает сумму всех элементов в массиве\n",
    "#mean() — находим среднее арифметическое\n",
    "#std() — возвращает значение стандартного отклонения\n",
    "#var() — возвращает значение дисперсии (разброса) элементов массива\n",
    "print('sum(arr1): ', np.sum(arr1))\n",
    "print('sum(arr2): ', np.sum(arr2))\n",
    "print('mean(arr1): ', np.mean(arr1))\n",
    "print('mean(arr2): ', np.mean(arr2))\n",
    "print('std(arr1): ', np.std(arr1))\n",
    "print('std(arr2): ', np.std(arr2))\n",
    "print('var(arr1): ', np.var(arr1))\n",
    "print('var(arr2): ', np.var(arr2))"
   ]
  }
 ],
 "metadata": {
  "kernelspec": {
   "display_name": "Python 3",
   "language": "python",
   "name": "python3"
  },
  "language_info": {
   "codemirror_mode": {
    "name": "ipython",
    "version": 3
   },
   "file_extension": ".py",
   "mimetype": "text/x-python",
   "name": "python",
   "nbconvert_exporter": "python",
   "pygments_lexer": "ipython3",
   "version": "3.7.0"
  }
 },
 "nbformat": 4,
 "nbformat_minor": 2
}
