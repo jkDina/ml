{
 "cells": [
  {
   "cell_type": "markdown",
   "metadata": {},
   "source": [
    "# Numpy"
   ]
  },
  {
   "cell_type": "code",
   "execution_count": 1,
   "metadata": {},
   "outputs": [],
   "source": [
    "#импорт библиотеки numpy\n",
    "import numpy as np"
   ]
  },
  {
   "cell_type": "code",
   "execution_count": 85,
   "metadata": {},
   "outputs": [
    {
     "name": "stdout",
     "output_type": "stream",
     "text": [
      "[[1 1 0]\n",
      " [1 0 1]]\n"
     ]
    }
   ],
   "source": [
    "#создание массива\n",
    "nd = np.array([[1, 1, 0], [1, 0, 1]])\n",
    "print(nd)"
   ]
  },
  {
   "cell_type": "code",
   "execution_count": 3,
   "metadata": {},
   "outputs": [
    {
     "name": "stdout",
     "output_type": "stream",
     "text": [
      "[ 0  1  4  9 16]\n"
     ]
    }
   ],
   "source": [
    "x = np.array([i**2 for i in range(5)])\n",
    "print(x)"
   ]
  },
  {
   "cell_type": "code",
   "execution_count": null,
   "metadata": {},
   "outputs": [],
   "source": []
  },
  {
   "cell_type": "markdown",
   "metadata": {},
   "source": [
    "# Свойства массива"
   ]
  },
  {
   "cell_type": "code",
   "execution_count": 86,
   "metadata": {
    "scrolled": true
   },
   "outputs": [
    {
     "name": "stdout",
     "output_type": "stream",
     "text": [
      "Число измерений массива (размерность,ранг) (nd.ndim):  2\n",
      "Размеры массива (nd.shape):  (2, 3)\n",
      "Общее количество всех элементов (nd.size):  6\n",
      "Тип элемента в массиве (nd.dtype):  int32\n",
      "type nd1 (nd1.dtype):  float32\n",
      "Изначальный тип элементов массива:  [[1.5, 2, 3], [4, 5, 6]]\n",
      "\n",
      "Измененный тип элементов массива nd1 (nd1_):  [[1.5+0.j 2. +0.j 3. +0.j]\n",
      " [4. +0.j 5. +0.j 6. +0.j]]\n",
      "Pазмер одного элемента массива, указанный в байтах (nd.itemsize):  4\n",
      "Буфер, содержащий фактические элементы массива(nd1.data):  <memory at 0x0000022396D6DEA0>\n",
      "Перевод в список из буфера (nd1.data.tolist) [[1.0, 1.0, 0.0], [1.0, 0.0, 1.0]]\n"
     ]
    }
   ],
   "source": [
    "print('Число измерений массива (размерность,ранг) (nd.ndim): ', nd.ndim)\n",
    "print('Размеры массива (nd.shape): ', nd.shape)\n",
    "print('Общее количество всех элементов (nd.size): ', nd.size)\n",
    "print('Тип элемента в массиве (nd.dtype): ', nd.dtype)\n",
    "\n",
    "#Указываем тип данных при создании\n",
    "nd1 = np.array([[1, 1, 0], [1, 0, 1]], dtype=np.float32)\n",
    "print('type nd1 (nd1.dtype): ', nd1.dtype)\n",
    "\n",
    "#переопределение типов элементов массива в момент создания\n",
    "print('Изначальный тип элементов массива: ', ([[1.5, 2, 3], [4, 5, 6]]))\n",
    "print('', )\n",
    "nd1_ = np.array([[1.5, 2, 3], [4, 5, 6]], dtype=np.complex)\n",
    "print('Измененный тип элементов массива nd1 (nd1_): ', nd1_)\n",
    "\n",
    "print('Pазмер одного элемента массива, указанный в байтах (nd.itemsize): ', nd.itemsize)\n",
    "print('Буфер, содержащий фактические элементы массива(nd1.data): ', nd1.data)\n",
    "print('Перевод в список из буфера (nd1.data.tolist)', nd1.data.tolist())"
   ]
  },
  {
   "cell_type": "markdown",
   "metadata": {},
   "source": [
    "# Изменение формы массива"
   ]
  },
  {
   "cell_type": "code",
   "execution_count": 75,
   "metadata": {},
   "outputs": [
    {
     "name": "stdout",
     "output_type": "stream",
     "text": [
      "массив а\n",
      " [[[  0   1   2]\n",
      "  [ 10  12  13]]\n",
      "\n",
      " [[100 101 102]\n",
      "  [110 112 113]]]\n",
      "посмотреть форму массива\n",
      " (2, 2, 3)\n",
      "получить плоский массив\n",
      " [  0   1   2  10  12  13 100 101 102 110 112 113]\n",
      "изменить форму\n",
      " (6, 2)\n",
      "новый массив\n",
      " [[  0   1]\n",
      " [  2  10]\n",
      " [ 12  13]\n",
      " [100 101]\n",
      " [102 110]\n",
      " [112 113]]\n",
      "транспонирование\n",
      " [[  0   2  12 100 102 112]\n",
      " [  1  10  13 101 110 113]]\n",
      "изменить форму a.reshape((3, 4)\n",
      " [[  0   1   2  10]\n",
      " [ 12  13 100 101]\n",
      " [102 110 112 113]]\n",
      "a1\n",
      " [[  0   1   2  10]\n",
      " [ 12  13 100 101]\n",
      " [102 110 112 113]]\n",
      "a1[1] [ 12  13 100 101]\n",
      "a2\n",
      " [[  0 100   1 101]\n",
      " [  2 102  10 110]\n",
      " [ 12 112  13 113]]\n",
      "a2[1] [  2 102  10 110]\n"
     ]
    }
   ],
   "source": [
    "a = np.array([[[  0,   1,   2], [ 10,  12,  13]], [[100, 101, 102], [110, 112, 113]]])\n",
    "print('массив а\\n', a)\n",
    "print('посмотреть форму массива\\n', a.shape)\n",
    "print('получить плоский массив\\n', a.ravel())  # Делает массив плоским\n",
    "a.shape = (6, 2)\n",
    "print('изменить форму\\n', a.shape)  # Изменение формы\n",
    "print('новый массив\\n', a)\n",
    "print('транспонирование\\n', a.transpose() ) # Транспонирование\n",
    "print('изменить форму a.reshape((3, 4)\\n', a.reshape((3, 4)))  # Изменение формы\n",
    "#Порядок элементов в массиве в результате функции ravel() \n",
    "#соответствует обычному \"C-стилю\", то есть, чем правее индекс, тем он \"быстрее изменяется\": за элементом a[0,0] следует a[0,1]. \n",
    "#Если одна форма массива была изменена на другую, массив \n",
    "a1=a.reshape((3, 4))\n",
    "print('a1\\n', a1)\n",
    "print('a1[1]', a1[1])\n",
    "#в FORTRAN-стиле, в котором быстрее изменяется более левый индекс\n",
    "a2=a.reshape((3, 4), order='F')\n",
    "print('a2\\n', a2)\n",
    "print('a2[1]', a2[1])"
   ]
  },
  {
   "cell_type": "code",
   "execution_count": 88,
   "metadata": {},
   "outputs": [
    {
     "name": "stdout",
     "output_type": "stream",
     "text": [
      "Новый а, после g = a.resize((2, 6)\n",
      " [[  0   1   2  10  12  13]\n",
      " [100 101 102 110 112 113]]\n",
      "копия а с 4-мя строками и соответстветствующим количеством столбцов\n",
      " [[  0   1   2]\n",
      " [ 10  12  13]\n",
      " [100 101 102]\n",
      " [110 112 113]]\n"
     ]
    }
   ],
   "source": [
    "#Метод reshape() возвращает ее аргумент с измененной формой, \n",
    "#в то время как метод resize() изменяет сам массив\n",
    "a = np.array([[  0,   1], [  2,  10], [ 12,  13], [100, 101], [102, 110], [112, 113]])\n",
    "g = a.resize((2, 6))\n",
    "print('Новый а, после g = a.resize((2, 6)\\n', a)\n",
    "#если один из аргументов задается как -1, \n",
    "#то он автоматически рассчитывается в соответствии с остальным\n",
    "j = a.reshape((4, -1))\n",
    "print('копия а с 4-мя строками и соответстветствующим количеством столбцов\\n', j)"
   ]
  },
  {
   "cell_type": "markdown",
   "metadata": {},
   "source": [
    "# Объединение массивов"
   ]
  },
  {
   "cell_type": "code",
   "execution_count": null,
   "metadata": {},
   "outputs": [],
   "source": [
    "#Несколько массивов могут быть объединены вместе вдоль разных осей \n",
    "#с помощью функций hstack и vstack.\n",
    "\n",
    "#hstack() объединяет массивы по первым осям, vstack() — по последним"
   ]
  },
  {
   "cell_type": "code",
   "execution_count": 3,
   "metadata": {},
   "outputs": [
    {
     "name": "stdout",
     "output_type": "stream",
     "text": [
      "np.vstack \n",
      " [[1 2]\n",
      " [3 4]\n",
      " [5 6]\n",
      " [7 8]]\n",
      "np.hstack \n",
      " [[1 2 5 6]\n",
      " [3 4 7 8]]\n"
     ]
    }
   ],
   "source": [
    "a = np.array([[1, 2], [3, 4]])\n",
    "b = np.array([[5, 6], [7, 8]])\n",
    "print('np.vstack \\n', np.vstack((a, b)))\n",
    "print('np.hstack \\n', np.hstack((a, b)))"
   ]
  },
  {
   "cell_type": "code",
   "execution_count": 4,
   "metadata": {},
   "outputs": [
    {
     "data": {
      "text/plain": [
       "array([[1, 2, 5, 6],\n",
       "       [3, 4, 7, 8]])"
      ]
     },
     "execution_count": 4,
     "metadata": {},
     "output_type": "execute_result"
    }
   ],
   "source": [
    "#функция column_stack() объединяет одномерные массивы в качестве столбцов \n",
    "#двумерного массива\n",
    "np.column_stack((a, b))"
   ]
  },
  {
   "cell_type": "code",
   "execution_count": 5,
   "metadata": {},
   "outputs": [
    {
     "data": {
      "text/plain": [
       "array([[1, 2],\n",
       "       [3, 4],\n",
       "       [5, 6],\n",
       "       [7, 8]])"
      ]
     },
     "execution_count": 5,
     "metadata": {},
     "output_type": "execute_result"
    }
   ],
   "source": [
    "#для строк имеется функция row_stack()\n",
    "np.row_stack((a, b))\n"
   ]
  },
  {
   "cell_type": "markdown",
   "metadata": {},
   "source": [
    "# Разбиение массива"
   ]
  },
  {
   "cell_type": "code",
   "execution_count": 12,
   "metadata": {},
   "outputs": [
    {
     "name": "stdout",
     "output_type": "stream",
     "text": [
      "первоначальный массив  a\n",
      " [[ 0  1  2  3  4  5]\n",
      " [ 6  7  8  9 10 11]]\n",
      "\n",
      "массив, разбитый на 3 части\n",
      "\n",
      "часть первая\n",
      " [[0 1]\n",
      " [6 7]]\n",
      "часть вторая\n",
      " [[2 3]\n",
      " [8 9]]\n",
      "часть третья\n",
      " [[ 4  5]\n",
      " [10 11]]\n"
     ]
    }
   ],
   "source": [
    "#Используя hsplit() вы можете разбить массив вдоль горизонтальной оси, \n",
    "#указав либо число возвращаемых массивов одинаковой формы, \n",
    "#либо номера столбцов, после которых массив разрезается \"ножницами\"\n",
    "a = np.arange(12).reshape((2, 6))\n",
    "print('первоначальный массив  a\\n', a)\n",
    "p = np.hsplit(a, 3)\n",
    "print('\\nмассив, разбитый на 3 части\\n')  # Разбить на 3 части\n",
    "print('часть первая\\n', p[0])\n",
    "print('часть вторая\\n', p[1])\n",
    "print('часть третья\\n', p[2])"
   ]
  },
  {
   "cell_type": "code",
   "execution_count": 14,
   "metadata": {},
   "outputs": [
    {
     "name": "stdout",
     "output_type": "stream",
     "text": [
      "первая часть\n",
      " [[0 1 2]\n",
      " [6 7 8]]\n",
      "вторая часть\n",
      " [[3]\n",
      " [9]]\n",
      "третья часть\n",
      " [[ 4  5]\n",
      " [10 11]]\n"
     ]
    }
   ],
   "source": [
    "n = np.hsplit(a, (3, 4))  # Разрезать a после третьего и четвёртого столбца\n",
    "print('первая часть\\n', n[0])\n",
    "print('вторая часть\\n', n[1])\n",
    "print('третья часть\\n', n[2])"
   ]
  },
  {
   "cell_type": "code",
   "execution_count": 17,
   "metadata": {},
   "outputs": [
    {
     "name": "stdout",
     "output_type": "stream",
     "text": [
      "первая часть\n",
      " [[0 1 2 3 4 5]]\n",
      "вторая часть\n",
      " [[ 6  7  8  9 10 11]]\n"
     ]
    }
   ],
   "source": [
    "#Функция vsplit() разбивает массив вдоль вертикальной оси, \n",
    "m = np.vsplit(a, 2) \n",
    "print('первая часть\\n', m[0])\n",
    "print('вторая часть\\n', m[1])"
   ]
  },
  {
   "cell_type": "code",
   "execution_count": 19,
   "metadata": {},
   "outputs": [
    {
     "name": "stdout",
     "output_type": "stream",
     "text": [
      "первая часть\n",
      " [[0 1 2 3 4 5]]\n",
      "вторая часть\n",
      " [[ 6  7  8  9 10 11]]\n"
     ]
    }
   ],
   "source": [
    "#а array_split() позволяет указать оси, вдоль которых произойдет разбиение\n",
    "g = np.array_split(a, 2, axis=0) \n",
    "print('первая часть\\n', g[0])\n",
    "print('вторая часть\\n', g[1])"
   ]
  },
  {
   "cell_type": "code",
   "execution_count": 20,
   "metadata": {},
   "outputs": [
    {
     "name": "stdout",
     "output_type": "stream",
     "text": [
      "первая часть\n",
      " [[0 1 2]\n",
      " [6 7 8]]\n",
      "вторая часть\n",
      " [[ 3  4  5]\n",
      " [ 9 10 11]]\n"
     ]
    }
   ],
   "source": [
    "f = np.array_split(a, 2, axis=1) \n",
    "print('первая часть\\n', f[0])\n",
    "print('вторая часть\\n', f[1])"
   ]
  },
  {
   "cell_type": "markdown",
   "metadata": {},
   "source": [
    "# Представление или поверхностная копия"
   ]
  },
  {
   "cell_type": "code",
   "execution_count": 23,
   "metadata": {},
   "outputs": [
    {
     "name": "stdout",
     "output_type": "stream",
     "text": [
      "\"c is a\" False\n",
      "\"c.base is a\" True\n"
     ]
    }
   ],
   "source": [
    "#Разные объекты массивов могут использовать одни и те же данные. \n",
    "#Метод view() создает новый объект массива, \n",
    "#являющийся представлением тех же данных.\n",
    "a = np.array([1,2,3])\n",
    "c = a.view()\n",
    "print('\"c is a\"', c is a)\n",
    "print('\"c.base is a\"', c.base is a)  # c это представление данных, принадлежащих a"
   ]
  },
  {
   "cell_type": "code",
   "execution_count": 24,
   "metadata": {},
   "outputs": [
    {
     "name": "stdout",
     "output_type": "stream",
     "text": [
      "\"c.flags.owndata\" False\n",
      "\"a.flags.owndata\" True\n"
     ]
    }
   ],
   "source": [
    "print('\"c.flags.owndata\"', c.flags.owndata)\n",
    "print('\"a.flags.owndata\"', a.flags.owndata)"
   ]
  },
  {
   "cell_type": "code",
   "execution_count": 27,
   "metadata": {},
   "outputs": [
    {
     "name": "stdout",
     "output_type": "stream",
     "text": [
      "c.shape (1, 3)\n",
      "a.shape (3,)\n"
     ]
    }
   ],
   "source": [
    "c.shape = (1,3)\n",
    "print('c.shape', c.shape)  # форма c поменяется\n",
    "print('a.shape', a.shape)  # форма а не поменяется"
   ]
  },
  {
   "cell_type": "code",
   "execution_count": 31,
   "metadata": {},
   "outputs": [
    {
     "name": "stdout",
     "output_type": "stream",
     "text": [
      "a [   1 9999    3] c [[   1 9999    3]]\n"
     ]
    }
   ],
   "source": [
    "#данные меняются (в а) после замены элемента в с\n",
    "c[0, 1] = 9999\n",
    "print('a', a, 'c', c)"
   ]
  },
  {
   "cell_type": "code",
   "execution_count": 34,
   "metadata": {},
   "outputs": [
    {
     "name": "stdout",
     "output_type": "stream",
     "text": [
      "[[10 10]\n",
      " [10 10]]\n"
     ]
    }
   ],
   "source": [
    "#Срез массива это представление\n",
    "a = np.array([[1,2,3], [4,5,6]])\n",
    "s = a[:,1:3]\n",
    "s[:] = 10\n",
    "print(s)"
   ]
  },
  {
   "cell_type": "markdown",
   "metadata": {},
   "source": [
    "# Глубокая копия"
   ]
  },
  {
   "cell_type": "code",
   "execution_count": 37,
   "metadata": {},
   "outputs": [
    {
     "name": "stdout",
     "output_type": "stream",
     "text": [
      "False\n",
      "False\n",
      "[[ 1 10 10]\n",
      " [ 4 10 10]]\n"
     ]
    }
   ],
   "source": [
    "#Метод copy() создаст настоящую копию массива и его данных\n",
    "d = a.copy()  # создается новый объект массива с новыми данными\n",
    "print(d is a)\n",
    "print(d.base is a)  # d не имеет ничего общего с а\n",
    "d[0, 0] = 9999 #после изменения элемента в d - в а ничего не меняется\n",
    "print(a)"
   ]
  },
  {
   "cell_type": "markdown",
   "metadata": {},
   "source": [
    "# Инициализация значениями по умолчанию"
   ]
  },
  {
   "cell_type": "markdown",
   "metadata": {},
   "source": [
    "Можно создать массивы и инициализировать нулями или единицами. Для этого в NumPy существуют две говорящие сами за себя функции zeros() и ones()"
   ]
  },
  {
   "cell_type": "code",
   "execution_count": 87,
   "metadata": {},
   "outputs": [
    {
     "name": "stdout",
     "output_type": "stream",
     "text": [
      "[[0. 0. 0.]\n",
      " [0. 0. 0.]\n",
      " [0. 0. 0.]]\n"
     ]
    }
   ],
   "source": [
    "nd2 = np.zeros((3, 3))\n",
    "print(nd2)"
   ]
  },
  {
   "cell_type": "code",
   "execution_count": 88,
   "metadata": {},
   "outputs": [
    {
     "name": "stdout",
     "output_type": "stream",
     "text": [
      "[[1. 1. 1.]\n",
      " [1. 1. 1.]\n",
      " [1. 1. 1.]]\n"
     ]
    }
   ],
   "source": [
    "nd3 = np.ones((3, 3))\n",
    "print(nd3)"
   ]
  },
  {
   "cell_type": "code",
   "execution_count": 89,
   "metadata": {},
   "outputs": [
    {
     "name": "stdout",
     "output_type": "stream",
     "text": [
      "[[1. 0. 0.]\n",
      " [0. 1. 0.]\n",
      " [0. 0. 1.]]\n"
     ]
    }
   ],
   "source": [
    "#создание единичной матрицы\n",
    "nd4 = np.eye(3)\n",
    "print(nd4)"
   ]
  },
  {
   "cell_type": "code",
   "execution_count": 90,
   "metadata": {},
   "outputs": [
    {
     "name": "stdout",
     "output_type": "stream",
     "text": [
      "[[6.23042070e-307 4.67296746e-307 1.69121096e-306 9.34609111e-307]\n",
      " [1.11256817e-306 1.06811422e-306 1.42417221e-306 1.11260619e-306]\n",
      " [8.90094053e-307 1.86919378e-306 1.06809792e-306 1.37962456e-306]\n",
      " [1.69111861e-306 1.78020169e-306 1.37961777e-306 7.56599807e-307]]\n"
     ]
    }
   ],
   "source": [
    "#создание матрицы с мусорными значениями\n",
    "nd5 = np.empty((4,4))\n",
    "print(nd5)"
   ]
  },
  {
   "cell_type": "code",
   "execution_count": 7,
   "metadata": {},
   "outputs": [
    {
     "name": "stdout",
     "output_type": "stream",
     "text": [
      "[[-2 -2]\n",
      " [-2 -2]\n",
      " [-2 -2]]\n"
     ]
    }
   ],
   "source": [
    "#создание матрицы 3 на 2 и заполнение ее элементами -2 с типом int32\n",
    "x = np.full((3, 2), -2, np.int32)\n",
    "print(x)"
   ]
  },
  {
   "cell_type": "markdown",
   "metadata": {},
   "source": [
    "# Создание массива путем повторения элементов"
   ]
  },
  {
   "cell_type": "code",
   "execution_count": 8,
   "metadata": {},
   "outputs": [
    {
     "name": "stdout",
     "output_type": "stream",
     "text": [
      "[1 1 2 2 3 3 4 4 5 5 6 6]\n"
     ]
    }
   ],
   "source": [
    "x = np.array([[1,2,3],[4,5,6]])\n",
    "y = np.repeat(x,2)\n",
    "print(y)"
   ]
  },
  {
   "cell_type": "code",
   "execution_count": 9,
   "metadata": {},
   "outputs": [
    {
     "name": "stdout",
     "output_type": "stream",
     "text": [
      "[[1 2 3]\n",
      " [1 2 3]\n",
      " [4 5 6]\n",
      " [4 5 6]]\n"
     ]
    }
   ],
   "source": [
    "y = np.repeat(x, 2, axis=0)\n",
    "print(y)"
   ]
  },
  {
   "cell_type": "code",
   "execution_count": 10,
   "metadata": {},
   "outputs": [
    {
     "name": "stdout",
     "output_type": "stream",
     "text": [
      "[[1 1 2 2 3 3]\n",
      " [4 4 5 5 6 6]]\n"
     ]
    }
   ],
   "source": [
    "y = np.repeat(x, 2, axis=1)\n",
    "print(y)"
   ]
  },
  {
   "cell_type": "code",
   "execution_count": 13,
   "metadata": {},
   "outputs": [
    {
     "name": "stdout",
     "output_type": "stream",
     "text": [
      "[[1 1 3 3 3 3 3]\n",
      " [4 4 6 6 6 6 6]]\n"
     ]
    }
   ],
   "source": [
    "y = np.repeat(x, [2, 0, 5], axis = 1)\n",
    "print(y)"
   ]
  },
  {
   "cell_type": "code",
   "execution_count": 15,
   "metadata": {},
   "outputs": [
    {
     "name": "stdout",
     "output_type": "stream",
     "text": [
      "[[1 2 1 2 1 2]\n",
      " [3 4 3 4 3 4]\n",
      " [1 2 1 2 1 2]\n",
      " [3 4 3 4 3 4]]\n"
     ]
    }
   ],
   "source": [
    "#повторим по строкам 2 раза по столбцам 3 раза\n",
    "x = np.array([[1, 2], [3,4]])\n",
    "y = np.tile(x, (2,3))\n",
    "print(y)"
   ]
  },
  {
   "cell_type": "markdown",
   "metadata": {},
   "source": [
    "# Индексы, срезы, итерации"
   ]
  },
  {
   "cell_type": "code",
   "execution_count": 42,
   "metadata": {},
   "outputs": [
    {
     "name": "stdout",
     "output_type": "stream",
     "text": [
      "a\n",
      " [  0   1   8  27  64 125 216 343 512 729]\n",
      "a[1]\n",
      " 1\n",
      "a[3:7]\n",
      " [ 27  64 125 216]\n",
      "a[3:7] = 8\n",
      "    [  0   1   8   8   8   8   8 343 512 729]\n",
      "a[::-1]\n",
      "    [729 512 343   8   8   8   8   8   1   0]\n",
      "каждый элемент возводим в степень 1/3 0.0\n",
      "каждый элемент возводим в степень 1/3 1.0\n",
      "каждый элемент возводим в степень 1/3 2.0\n",
      "каждый элемент возводим в степень 1/3 2.0\n",
      "каждый элемент возводим в степень 1/3 2.0\n",
      "каждый элемент возводим в степень 1/3 2.0\n",
      "каждый элемент возводим в степень 1/3 2.0\n",
      "каждый элемент возводим в степень 1/3 6.999999999999999\n",
      "каждый элемент возводим в степень 1/3 7.999999999999999\n",
      "каждый элемент возводим в степень 1/3 8.999999999999998\n"
     ]
    }
   ],
   "source": [
    "a = np.arange(10) ** 3\n",
    "print('a\\n', a)\n",
    "print('a[1]\\n', a[1])\n",
    "print('a[3:7]\\n', a[3:7])\n",
    "a[3:7] = 8\n",
    "print('a[3:7] = 8\\n   ', a)\n",
    "print('a[::-1]\\n   ', a[::-1])\n",
    "#Невозможно удалить срез элементов\n",
    "#del a[4:6]\n",
    "#print('del a[4:6]\\n   ', a)\n",
    "for i in a:\n",
    "    print('каждый элемент возводим в степень 1/3', i ** (1/3))"
   ]
  },
  {
   "cell_type": "code",
   "execution_count": 55,
   "metadata": {
    "scrolled": true
   },
   "outputs": [
    {
     "name": "stdout",
     "output_type": "stream",
     "text": [
      "Вторая строка, третий столбец 23\n",
      "Вторая строка, третий столбец 23\n",
      "Вторая строка, третий столбец 23\n",
      "Третий столбец [ 2 12 22 32 42]\n",
      "Первые две строки [[ 0  1  2  3]\n",
      " [10 11 12 13]]\n",
      "Вторая и третья строки [[10 11 12 13]\n",
      " [20 21 22 23]]\n",
      "Последняя строка [40 41 42 43]\n",
      "первая строка b[1, ...]\n",
      " [10 11 12 13]\n",
      "второй столбец b[... ,2] [ 2 12 22 32 42]\n"
     ]
    }
   ],
   "source": [
    "b = np.array([[  0, 1, 2, 3],\n",
    "              [10, 11, 12, 13],\n",
    "              [20, 21, 22, 23],\n",
    "              [30, 31, 32, 33],\n",
    "              [40, 41, 42, 43]])\n",
    "print('Вторая строка, третий столбец', b[2,3])  # Вторая строка, третий столбец\n",
    "print('Вторая строка, третий столбец', b[(2,3)])\n",
    "print('Вторая строка, третий столбец', b[2][3])  # Можно и так\n",
    "print('Третий столбец', b[:,2])  # Третий столбец\n",
    "print('Первые две строки', b[:2])  # Первые две строки\n",
    "print('Вторая и третья строки', b[1:3, : : ])  # Вторая и третья строки\n",
    "print('Последняя строка', b[-1])  # Последняя строка. Эквивалентно b[-1,:]\n",
    "#x[1, 2, ...] эквивалентно x[1, 2, :, :, :]\n",
    "#x[... , 3] то же самое, что x[:, :, :, :, 3] \n",
    "#x[4, ... , 5, :] это x[4, :, :, 5, :]\n",
    "print('первая строка b[1, ...]\\n', b[1, ...])  # то же, что b[1, : , :] или b[1]\n",
    "print('второй столбец b[... ,2]', b[... ,2])  # то же, что b[: , : ,2]"
   ]
  },
  {
   "cell_type": "markdown",
   "metadata": {},
   "source": [
    "# Итерирование"
   ]
  },
  {
   "cell_type": "code",
   "execution_count": 59,
   "metadata": {},
   "outputs": [
    {
     "name": "stdout",
     "output_type": "stream",
     "text": [
      "итерирование построчно\n",
      "\n",
      "[0 1 2 3]\n",
      "[10 11 12 13]\n",
      "[20 21 22 23]\n",
      "[30 31 32 33]\n",
      "[40 41 42 43]\n",
      "\n",
      "итерирование поэлементно b.flat\n",
      "\n",
      "0\n",
      "1\n",
      "2\n",
      "3\n",
      "10\n",
      "11\n",
      "12\n",
      "13\n",
      "20\n",
      "21\n",
      "22\n",
      "23\n",
      "30\n",
      "31\n",
      "32\n",
      "33\n",
      "40\n",
      "41\n",
      "42\n",
      "43\n"
     ]
    }
   ],
   "source": [
    "#итерированеи начинается по строкам\n",
    "print('итерирование построчно\\n')\n",
    "for row in b:\n",
    "    print(row)\n",
    "    \n",
    "#если нужно перебрать поэлементно весь массив, \n",
    "#как если бы он был одномерным, \n",
    "#для этого можно использовать атрибут flat\n",
    "print('\\nитерирование поэлементно b.flat\\n')\n",
    "for el in b.flat:\n",
    "    print(el)"
   ]
  },
  {
   "cell_type": "markdown",
   "metadata": {},
   "source": [
    "# Создание массива той же формы"
   ]
  },
  {
   "cell_type": "code",
   "execution_count": 20,
   "metadata": {},
   "outputs": [
    {
     "name": "stdout",
     "output_type": "stream",
     "text": [
      "zeros_like(x)\n",
      " [[0. 0.]\n",
      " [0. 0.]\n",
      " [0. 0.]]\n",
      "empty_like(x)\n",
      " [[0. 0.]\n",
      " [0. 0.]\n",
      " [0. 0.]]\n",
      "ones_like(x)\n",
      " [[1. 1.]\n",
      " [1. 1.]\n",
      " [1. 1.]]\n"
     ]
    }
   ],
   "source": [
    "x = np.array([[1,2],[3,4],[5,6]], dtype=np.float64)\n",
    "y = np.zeros_like(x)\n",
    "print('zeros_like(x)\\n', y)\n",
    "z = np.empty_like(x)\n",
    "print('empty_like(x)\\n', z)\n",
    "w = np.ones_like(x)\n",
    "print('ones_like(x)\\n', w)"
   ]
  },
  {
   "cell_type": "code",
   "execution_count": 26,
   "metadata": {},
   "outputs": [
    {
     "name": "stdout",
     "output_type": "stream",
     "text": [
      "full_like(x, 6.2, np.float64)\n",
      " [[6.2 6.2]\n",
      " [6.2 6.2]]\n"
     ]
    }
   ],
   "source": [
    "x = np.array([[1,1], [2,2]])\n",
    "p = np.full_like(x, 6.2, np.float64)\n",
    "print('full_like(x, 6.2, np.float64)\\n', p)\n"
   ]
  },
  {
   "cell_type": "code",
   "execution_count": 29,
   "metadata": {},
   "outputs": [
    {
     "name": "stdout",
     "output_type": "stream",
     "text": [
      "[2.5 'string' list([2, 4]) {'a': 0, 'b': 1}]\n",
      "[[None None]\n",
      " [None None]]\n"
     ]
    }
   ],
   "source": [
    "#формируем массив с типом данных - \"object\"\n",
    "t = np.array([2.5, 'string', [2,4], {'a': 0, 'b':1}], dtype=object)\n",
    "print(t)\n",
    "x = np.empty((2,2), dtype=np.object)\n",
    "print(x)"
   ]
  },
  {
   "cell_type": "raw",
   "metadata": {},
   "source": [
    "# Математические функции"
   ]
  },
  {
   "cell_type": "code",
   "execution_count": 91,
   "metadata": {},
   "outputs": [
    {
     "name": "stdout",
     "output_type": "stream",
     "text": [
      "[0 1 2 3 4]\n"
     ]
    }
   ],
   "source": [
    "#arange создает массив, состоящий из n элементов — от 0 до n — 1\n",
    "nd6 = np.arange(5)\n",
    "print(nd6)"
   ]
  },
  {
   "cell_type": "code",
   "execution_count": 92,
   "metadata": {},
   "outputs": [
    {
     "name": "stdout",
     "output_type": "stream",
     "text": [
      "[-3 -1  1  3  5  7  9]\n"
     ]
    }
   ],
   "source": [
    "#от -3 до 10 с шагом 2\n",
    "nd7 = np.arange(-3, 10, 2)\n",
    "print(nd7)"
   ]
  },
  {
   "cell_type": "code",
   "execution_count": 93,
   "metadata": {},
   "outputs": [
    {
     "name": "stdout",
     "output_type": "stream",
     "text": [
      "Девять элементов выбранных функцией linspace в диапазоне от 0 до 2:  [0.   0.25 0.5  0.75 1.   1.25 1.5  1.75 2.  ]\n",
      "Данные преобразованны в другой тип:  [0 0 0 0 1 1 1 1 2]\n"
     ]
    }
   ],
   "source": [
    "#Функция linspace() (можно использовать вместо arange), \n",
    "#которая вместо шага в качестве одного из аргументов принимает число, \n",
    "#равное количеству нужных элементов\n",
    "nd7_= np.linspace(0, 2, 9)  # 9 чисел от 0 до 2 включительно\n",
    "print('Девять элементов выбранных функцией linspace в диапазоне от 0 до 2: ', nd7_)\n",
    "#Преобразование типа данных\n",
    "nd7_= np.linspace(0, 2, 9).astype('int64')\n",
    "print('Данные преобразованны в другой тип: ', nd7_)"
   ]
  },
  {
   "cell_type": "code",
   "execution_count": 94,
   "metadata": {},
   "outputs": [
    {
     "name": "stdout",
     "output_type": "stream",
     "text": [
      "np.sin:  [-0.14112001 -0.84147098  0.84147098  0.14112001 -0.95892427  0.6569866   0.41211849]\n",
      "np.cos:  [-0.9899925   0.54030231  0.54030231 -0.9899925   0.28366219  0.75390225 -0.91113026]\n",
      "np.arctan:  [-1.24904577 -0.78539816  0.78539816  1.24904577  1.37340077  1.42889927  1.46013911]\n",
      "np.abs:  [3 1 1 3 5 7 9]\n",
      "np.sign:  [-1 -1  1  1  1  1  1]\n"
     ]
    }
   ],
   "source": [
    "#функции примененяются поочередно к каждому элементу многомерного массива\n",
    "print('np.sin: ', np.sin(nd7))\n",
    "print('np.cos: ', np.cos(nd7))\n",
    "print('np.arctan: ', np.arctan(nd7))\n",
    "print('np.abs: ', np.abs(nd7))\n",
    "print('np.sign: ', np.sign(nd7))"
   ]
  },
  {
   "cell_type": "markdown",
   "metadata": {},
   "source": [
    "# Агрегационные функции"
   ]
  },
  {
   "cell_type": "code",
   "execution_count": 33,
   "metadata": {},
   "outputs": [
    {
     "name": "stdout",
     "output_type": "stream",
     "text": [
      "нормальное распределение arr1:  [[-1.02370025 -0.64418404 -1.41875037 -0.28652715]\n",
      " [ 1.27297679 -1.19561044  0.11308307 -1.59318959]\n",
      " [-1.98562454 -3.35420824  0.59507814  0.40950329]\n",
      " [ 0.39668482  0.95767481 -2.14502566  0.72081611]]\n",
      "равномерное распределение arr2:  [[0.41104924 0.11537719 0.06595501 0.1001126 ]\n",
      " [0.93428817 0.65122214 0.18430973 0.6698361 ]\n",
      " [0.07565008 0.62356269 0.25629467 0.19657088]\n",
      " [0.94575891 0.27138801 0.44098143 0.31097561]]\n"
     ]
    }
   ],
   "source": [
    "#сгенерируем массив размера 4×4 из нормального распределения\n",
    "arr1 = np.random.randn(4,4)\n",
    "print('нормальное распределение arr1: ', arr1)\n",
    "#сгенерируем массив размера 4×4 из равномерного распределения\n",
    "arr2 = np.random.rand(4,4)\n",
    "print('равномерное распределение arr2: ', arr2)"
   ]
  },
  {
   "cell_type": "code",
   "execution_count": 36,
   "metadata": {},
   "outputs": [
    {
     "name": "stdout",
     "output_type": "stream",
     "text": [
      "sum(arr1):  -9.181003247701446\n",
      "sum(arr2):  6.253332468180036\n",
      "mean(arr1):  -0.5738127029813404\n",
      "mean(arr2):  0.3908332792612523\n",
      "std(arr1):  1.2698706630848695\n",
      "std(arr2):  0.2839930600953234\n",
      "var(arr1):  1.612571500963606\n",
      "var(arr2):  0.08065205818230596\n"
     ]
    }
   ],
   "source": [
    "#Применяем агрегационные функции\n",
    "#sum() — подсчитывает сумму всех элементов в массиве\n",
    "#mean() — находим среднее арифметическое\n",
    "#std() — возвращает значение стандартного отклонения\n",
    "#var() — возвращает значение дисперсии (разброса) элементов массива\n",
    "print('sum(arr1): ', np.sum(arr1))\n",
    "print('sum(arr2): ', np.sum(arr2))\n",
    "print('mean(arr1): ', np.mean(arr1))\n",
    "print('mean(arr2): ', np.mean(arr2))\n",
    "print('std(arr1): ', np.std(arr1))\n",
    "print('std(arr2): ', np.std(arr2))\n",
    "print('var(arr1): ', np.var(arr1))\n",
    "print('var(arr2): ', np.var(arr2))"
   ]
  },
  {
   "cell_type": "code",
   "execution_count": 104,
   "metadata": {},
   "outputs": [
    {
     "name": "stdout",
     "output_type": "stream",
     "text": [
      "arr1\n",
      " [[ 1 20  3]\n",
      " [ 4  5  6]]\n",
      "min среди всех элементов:  1\n",
      "max среди всех элементов:  20\n",
      "max элемент в каждом столбце [ 4 20  6]\n",
      "max элемент в каждой строке [20  6]\n"
     ]
    }
   ],
   "source": [
    "arr1_ = np.array([[1, 20, 3], [4, 5, 6]], dtype='int16')\n",
    "print('arr1\\n', arr1_)\n",
    "print('min среди всех элементов: ', arr1_.min())\n",
    "print('max среди всех элементов: ', arr1_.max())\n",
    "print('max элемент в каждом столбце', arr1_.max(axis=0))\n",
    "print('max элемент в каждой строке', arr1_.max(axis=1))"
   ]
  },
  {
   "cell_type": "markdown",
   "metadata": {},
   "source": [
    "# Создание массива на основе функции, принимающей индексы (номера элементов)"
   ]
  },
  {
   "cell_type": "code",
   "execution_count": 14,
   "metadata": {},
   "outputs": [
    {
     "name": "stdout",
     "output_type": "stream",
     "text": [
      "Создание массива с использованием функции (arr3):\n",
      " [[0. 1. 2. 3.]\n",
      " [2. 3. 4. 5.]\n",
      " [4. 5. 6. 7.]]\n"
     ]
    }
   ],
   "source": [
    "arr3 = np.fromfunction(lambda i, j: 2*i + j, (3, 4))\n",
    "print('Создание массива с использованием функции (arr3):\\n', arr3)"
   ]
  },
  {
   "cell_type": "code",
   "execution_count": 16,
   "metadata": {},
   "outputs": [
    {
     "name": "stdout",
     "output_type": "stream",
     "text": [
      "Создание массива с использованием функции:\n",
      " [[0. 1. 2. 3.]\n",
      " [3. 4. 5. 6.]\n",
      " [6. 7. 8. 9.]]\n"
     ]
    }
   ],
   "source": [
    "#i- индекс строки, j - индекс столбца\n",
    "def f1(i, j):\n",
    "    return 3 * i + j\n",
    "print('Создание массива с использованием функции:\\n', np.fromfunction(f1, (3, 4)))\n"
   ]
  },
  {
   "cell_type": "markdown",
   "metadata": {},
   "source": [
    "# Печать массивов"
   ]
  },
  {
   "cell_type": "code",
   "execution_count": 44,
   "metadata": {},
   "outputs": [
    {
     "name": "stdout",
     "output_type": "stream",
     "text": [
      "[   0    1    2    3    4\n",
      "    5    6    7    8    9\n",
      "   10   11   12   13   14\n",
      "   15   16   17   18   19\n",
      " ...  981  982  983  984\n",
      "  985  986  987  988  989\n",
      "  990  991  992  993  994\n",
      "  995  996  997  998  999\n",
      " 1000]\n"
     ]
    }
   ],
   "source": [
    "print(np.arange(0, 1001, 1))"
   ]
  },
  {
   "cell_type": "code",
   "execution_count": 45,
   "metadata": {},
   "outputs": [
    {
     "name": "stdout",
     "output_type": "stream",
     "text": [
      "[ 0  1  2  3  4  5  6  7\n",
      "  8  9 10 11 12 13 14 15\n",
      " 16 17 18 19]\n"
     ]
    }
   ],
   "source": [
    "np.set_printoptions(threshold=10)\n",
    "print(np.arange(0, 20, 1))"
   ]
  },
  {
   "cell_type": "code",
   "execution_count": 46,
   "metadata": {},
   "outputs": [
    {
     "name": "stdout",
     "output_type": "stream",
     "text": [
      "Использование функции numpy.set_printoptions:\n",
      " [ 0  1  2  3  4  5  6  7\n",
      "  8  9 10 11 12 13 14 15\n",
      " 16 17 18 19]\n"
     ]
    }
   ],
   "source": [
    "# Использование функции numpy.set_printoptions, чтобы увидеть весь массив\n",
    "np.set_printoptions(threshold=30)\n",
    "print('Использование функции numpy.set_printoptions:\\n', np.arange(0, 20, 1))"
   ]
  },
  {
   "cell_type": "code",
   "execution_count": 72,
   "metadata": {},
   "outputs": [
    {
     "name": "stdout",
     "output_type": "stream",
     "text": [
      "Использование функции numpy.set_printoptions:\n",
      " [ 0  1  2  3  4  5  6  7  8  9 10 11 12 13 14 15 16 17 18 19 ... 30 31 32 33 34 35 36 37 38 39 40 41 42 43 44 45 46 47 48 49]\n"
     ]
    }
   ],
   "source": [
    "#Аргументы функции numpy.set_printoptions\n",
    "'''precision : количество отображаемых цифр после запятой (по умолчанию 8).\n",
    "\n",
    "threshold : количество элементов в массиве, вызывающее обрезание элементов (по умолчанию 1000).\n",
    "\n",
    "edgeitems : количество элементов в начале и в конце каждой размерности массива (по умолчанию 3).\n",
    "\n",
    "linewidth : количество символов в строке, после которых осуществляется перенос (по умолчанию 75).\n",
    "\n",
    "suppress : если True, не печатает маленькие значения в scientific notation (по умолчанию False).\n",
    "\n",
    "nanstr : строковое представление NaN (по умолчанию 'nan').\n",
    "\n",
    "infstr : строковое представление inf (по умолчанию 'inf').\n",
    "\n",
    "formatter : позволяет более тонко управлять печатью массивов.'''\n",
    "np.set_printoptions(threshold=30, edgeitems=20, linewidth=260)\n",
    "print('Использование функции numpy.set_printoptions:\\n', np.arange(0, 50, 1))"
   ]
  },
  {
   "cell_type": "markdown",
   "metadata": {},
   "source": [
    "# Базовые операции"
   ]
  },
  {
   "cell_type": "code",
   "execution_count": 59,
   "metadata": {},
   "outputs": [
    {
     "name": "stdout",
     "output_type": "stream",
     "text": [
      "Поэлементное сложение массивов:  [20 31 42 53]\n",
      "Поэлементное вычитание массивов:  [20 29 38 47]\n",
      "Поэлементное перемножение массивов:  [  0  30  80 150]\n",
      "Поэлементное деление массивов:\n",
      " [        inf 30.\n",
      " 20.         16.66666667]\n",
      "Поэлементное возведение в степень массивов:\n",
      " [     1     30   1600\n",
      " 125000]\n",
      "Поэлементное целочисленное деление массивов:\n",
      " [ 0 30 20 16]\n",
      "Поэлементное взятие остатока от деления массивов:\n",
      " [0 0 0 2]\n"
     ]
    },
    {
     "name": "stderr",
     "output_type": "stream",
     "text": [
      "C:\\Users\\user\\Anaconda3\\lib\\site-packages\\ipykernel_launcher.py:10: RuntimeWarning: divide by zero encountered in true_divide\n",
      "  # Remove the CWD from sys.path while we load stuff.\n",
      "C:\\Users\\user\\Anaconda3\\lib\\site-packages\\ipykernel_launcher.py:12: RuntimeWarning: divide by zero encountered in floor_divide\n",
      "  if sys.path[0] == '':\n",
      "C:\\Users\\user\\Anaconda3\\lib\\site-packages\\ipykernel_launcher.py:13: RuntimeWarning: divide by zero encountered in remainder\n",
      "  del sys.path[0]\n"
     ]
    }
   ],
   "source": [
    "#Математические операции над массивами выполняются поэлементно. \n",
    "#Создается новый массив, который заполняется результатами действия оператора.\n",
    "#Массивы должны быть одинаковых размеров.\n",
    "\n",
    "a = np.array([20, 30, 40, 50])\n",
    "b = np.arange(4)\n",
    "print('Поэлементное сложение массивов: ', a + b)\n",
    "print('Поэлементное вычитание массивов: ', a - b)\n",
    "print('Поэлементное перемножение массивов: ', a * b)\n",
    "print('Поэлементное деление массивов:\\n', a / b)\n",
    "print('Поэлементное возведение в степень массивов:\\n', a ** b)\n",
    "print('Поэлементное целочисленное деление массивов:\\n', a // b)\n",
    "print('Поэлементное взятие остатока от деления массивов:\\n', a % b)"
   ]
  },
  {
   "cell_type": "code",
   "execution_count": 70,
   "metadata": {},
   "outputs": [
    {
     "name": "stdout",
     "output_type": "stream",
     "text": [
      "a =  [17 27 37 47]\n",
      "a + 1 =  [18 28 38 48]\n",
      "a ** 3 =  [  4913  19683  50653\n",
      " 103823]\n",
      "Операция со старым массивом (a -= 1) : [16 26 36 46]\n"
     ]
    }
   ],
   "source": [
    "#Можно производить математические операции между массивом и числом. \n",
    "#В этом случае к каждому элементу прибавляется это число.\n",
    "#Данные операции создают новый массив не меняя старый.\n",
    "print('a = ', a)\n",
    "print('a + 1 = ', a + 1)\n",
    "print('a ** 3 = ', a ** 3)\n",
    "#Данная операция изменяет старый массив\n",
    "a -= 1\n",
    "print('Операция со старым массивом (a -= 1) :', a)"
   ]
  },
  {
   "cell_type": "code",
   "execution_count": 82,
   "metadata": {},
   "outputs": [
    {
     "name": "stdout",
     "output_type": "stream",
     "text": [
      "a < 35 : [ True  True  True  True  True  True  True  True False  True False]\n",
      "Отбираем элементы, которые меньше 10 (a[a < 10]) :\n",
      " [  5   0 -13   4  -1  -7]\n"
     ]
    }
   ],
   "source": [
    "#Фильтрация\n",
    "a = np.array([5, 0, 20, -13, 25, 4, 30, -1, 40, -7, 50], dtype='int32')\n",
    "print('a < 35 :', a < 35)\n",
    "print('Отбираем элементы, которые меньше 10 (a[a < 10]) :\\n', a[a < 10])"
   ]
  },
  {
   "cell_type": "code",
   "execution_count": null,
   "metadata": {},
   "outputs": [],
   "source": []
  }
 ],
 "metadata": {
  "kernelspec": {
   "display_name": "Python 3",
   "language": "python",
   "name": "python3"
  },
  "language_info": {
   "codemirror_mode": {
    "name": "ipython",
    "version": 3
   },
   "file_extension": ".py",
   "mimetype": "text/x-python",
   "name": "python",
   "nbconvert_exporter": "python",
   "pygments_lexer": "ipython3",
   "version": "3.7.0"
  }
 },
 "nbformat": 4,
 "nbformat_minor": 2
}
