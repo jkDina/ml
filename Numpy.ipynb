{
 "cells": [
  {
   "cell_type": "markdown",
   "metadata": {},
   "source": [
    "# Numpy"
   ]
  },
  {
   "cell_type": "code",
   "execution_count": 84,
   "metadata": {},
   "outputs": [],
   "source": [
    "#импорт библиотеки numpy\n",
    "import numpy as np"
   ]
  },
  {
   "cell_type": "code",
   "execution_count": 85,
   "metadata": {},
   "outputs": [
    {
     "name": "stdout",
     "output_type": "stream",
     "text": [
      "[[1 1 0]\n",
      " [1 0 1]]\n"
     ]
    }
   ],
   "source": [
    "#создание массива\n",
    "nd = np.array([[1, 1, 0], [1, 0, 1]])\n",
    "print(nd)"
   ]
  },
  {
   "cell_type": "markdown",
   "metadata": {},
   "source": [
    "# Свойства массива"
   ]
  },
  {
   "cell_type": "code",
   "execution_count": 86,
   "metadata": {
    "scrolled": true
   },
   "outputs": [
    {
     "name": "stdout",
     "output_type": "stream",
     "text": [
      "Число измерений массива (размерность,ранг) (nd.ndim):  2\n",
      "Размеры массива (nd.shape):  (2, 3)\n",
      "Общее количество всех элементов (nd.size):  6\n",
      "Тип элемента в массиве (nd.dtype):  int32\n",
      "type nd1 (nd1.dtype):  float32\n",
      "Изначальный тип элементов массива:  [[1.5, 2, 3], [4, 5, 6]]\n",
      "\n",
      "Измененный тип элементов массива nd1 (nd1_):  [[1.5+0.j 2. +0.j 3. +0.j]\n",
      " [4. +0.j 5. +0.j 6. +0.j]]\n",
      "Pазмер одного элемента массива, указанный в байтах (nd.itemsize):  4\n",
      "Буфер, содержащий фактические элементы массива(nd1.data):  <memory at 0x0000022396D6DEA0>\n",
      "Перевод в список из буфера (nd1.data.tolist) [[1.0, 1.0, 0.0], [1.0, 0.0, 1.0]]\n"
     ]
    }
   ],
   "source": [
    "print('Число измерений массива (размерность,ранг) (nd.ndim): ', nd.ndim)\n",
    "print('Размеры массива (nd.shape): ', nd.shape)\n",
    "print('Общее количество всех элементов (nd.size): ', nd.size)\n",
    "print('Тип элемента в массиве (nd.dtype): ', nd.dtype)\n",
    "\n",
    "#Указываем тип данных при создании\n",
    "nd1 = np.array([[1, 1, 0], [1, 0, 1]], dtype=np.float32)\n",
    "print('type nd1 (nd1.dtype): ', nd1.dtype)\n",
    "\n",
    "#переопределение типов элементов массива в момент создания\n",
    "print('Изначальный тип элементов массива: ', ([[1.5, 2, 3], [4, 5, 6]]))\n",
    "print('', )\n",
    "nd1_ = np.array([[1.5, 2, 3], [4, 5, 6]], dtype=np.complex)\n",
    "print('Измененный тип элементов массива nd1 (nd1_): ', nd1_)\n",
    "\n",
    "print('Pазмер одного элемента массива, указанный в байтах (nd.itemsize): ', nd.itemsize)\n",
    "print('Буфер, содержащий фактические элементы массива(nd1.data): ', nd1.data)\n",
    "print('Перевод в список из буфера (nd1.data.tolist)', nd1.data.tolist())"
   ]
  },
  {
   "cell_type": "markdown",
   "metadata": {},
   "source": [
    "# Инициализация значениями по умолчанию"
   ]
  },
  {
   "cell_type": "markdown",
   "metadata": {},
   "source": [
    "Можно создать массивы и инициализировать нулями или единицами. Для этого в NumPy существуют две говорящие сами за себя функции zeros() и ones()"
   ]
  },
  {
   "cell_type": "code",
   "execution_count": 87,
   "metadata": {},
   "outputs": [
    {
     "name": "stdout",
     "output_type": "stream",
     "text": [
      "[[0. 0. 0.]\n",
      " [0. 0. 0.]\n",
      " [0. 0. 0.]]\n"
     ]
    }
   ],
   "source": [
    "nd2 = np.zeros((3, 3))\n",
    "print(nd2)"
   ]
  },
  {
   "cell_type": "code",
   "execution_count": 88,
   "metadata": {},
   "outputs": [
    {
     "name": "stdout",
     "output_type": "stream",
     "text": [
      "[[1. 1. 1.]\n",
      " [1. 1. 1.]\n",
      " [1. 1. 1.]]\n"
     ]
    }
   ],
   "source": [
    "nd3 = np.ones((3, 3))\n",
    "print(nd3)"
   ]
  },
  {
   "cell_type": "code",
   "execution_count": 89,
   "metadata": {},
   "outputs": [
    {
     "name": "stdout",
     "output_type": "stream",
     "text": [
      "[[1. 0. 0.]\n",
      " [0. 1. 0.]\n",
      " [0. 0. 1.]]\n"
     ]
    }
   ],
   "source": [
    "#создание единичной матрицы\n",
    "nd4 = np.eye(3)\n",
    "print(nd4)"
   ]
  },
  {
   "cell_type": "code",
   "execution_count": 90,
   "metadata": {},
   "outputs": [
    {
     "name": "stdout",
     "output_type": "stream",
     "text": [
      "[[6.23042070e-307 4.67296746e-307 1.69121096e-306 9.34609111e-307]\n",
      " [1.11256817e-306 1.06811422e-306 1.42417221e-306 1.11260619e-306]\n",
      " [8.90094053e-307 1.86919378e-306 1.06809792e-306 1.37962456e-306]\n",
      " [1.69111861e-306 1.78020169e-306 1.37961777e-306 7.56599807e-307]]\n"
     ]
    }
   ],
   "source": [
    "#создание матрицы с мусорными значениями\n",
    "nd5 = np.empty((4,4))\n",
    "print(nd5)"
   ]
  },
  {
   "cell_type": "markdown",
   "metadata": {},
   "source": [
    "# Математические функции"
   ]
  },
  {
   "cell_type": "code",
   "execution_count": 91,
   "metadata": {},
   "outputs": [
    {
     "name": "stdout",
     "output_type": "stream",
     "text": [
      "[0 1 2 3 4]\n"
     ]
    }
   ],
   "source": [
    "#arange создает массив, состоящий из n элементов — от 0 до n — 1\n",
    "nd6 = np.arange(5)\n",
    "print(nd6)"
   ]
  },
  {
   "cell_type": "code",
   "execution_count": 92,
   "metadata": {},
   "outputs": [
    {
     "name": "stdout",
     "output_type": "stream",
     "text": [
      "[-3 -1  1  3  5  7  9]\n"
     ]
    }
   ],
   "source": [
    "#от -3 до 10 с шагом 2\n",
    "nd7 = np.arange(-3, 10, 2)\n",
    "print(nd7)"
   ]
  },
  {
   "cell_type": "code",
   "execution_count": 93,
   "metadata": {},
   "outputs": [
    {
     "name": "stdout",
     "output_type": "stream",
     "text": [
      "Девять элементов выбранных функцией linspace в диапазоне от 0 до 2:  [0.   0.25 0.5  0.75 1.   1.25 1.5  1.75 2.  ]\n",
      "Данные преобразованны в другой тип:  [0 0 0 0 1 1 1 1 2]\n"
     ]
    }
   ],
   "source": [
    "#Функция linspace() (можно использовать вместо arange), \n",
    "#которая вместо шага в качестве одного из аргументов принимает число, \n",
    "#равное количеству нужных элементов\n",
    "nd7_= np.linspace(0, 2, 9)  # 9 чисел от 0 до 2 включительно\n",
    "print('Девять элементов выбранных функцией linspace в диапазоне от 0 до 2: ', nd7_)\n",
    "#Преобразование типа данных\n",
    "nd7_= np.linspace(0, 2, 9).astype('int64')\n",
    "print('Данные преобразованны в другой тип: ', nd7_)"
   ]
  },
  {
   "cell_type": "code",
   "execution_count": 94,
   "metadata": {},
   "outputs": [
    {
     "name": "stdout",
     "output_type": "stream",
     "text": [
      "np.sin:  [-0.14112001 -0.84147098  0.84147098  0.14112001 -0.95892427  0.6569866   0.41211849]\n",
      "np.cos:  [-0.9899925   0.54030231  0.54030231 -0.9899925   0.28366219  0.75390225 -0.91113026]\n",
      "np.arctan:  [-1.24904577 -0.78539816  0.78539816  1.24904577  1.37340077  1.42889927  1.46013911]\n",
      "np.abs:  [3 1 1 3 5 7 9]\n",
      "np.sign:  [-1 -1  1  1  1  1  1]\n"
     ]
    }
   ],
   "source": [
    "#функции примененяются поочередно к каждому элементу многомерного массива\n",
    "print('np.sin: ', np.sin(nd7))\n",
    "print('np.cos: ', np.cos(nd7))\n",
    "print('np.arctan: ', np.arctan(nd7))\n",
    "print('np.abs: ', np.abs(nd7))\n",
    "print('np.sign: ', np.sign(nd7))"
   ]
  },
  {
   "cell_type": "markdown",
   "metadata": {},
   "source": [
    "# Агрегационные функции"
   ]
  },
  {
   "cell_type": "code",
   "execution_count": 33,
   "metadata": {},
   "outputs": [
    {
     "name": "stdout",
     "output_type": "stream",
     "text": [
      "нормальное распределение arr1:  [[-1.02370025 -0.64418404 -1.41875037 -0.28652715]\n",
      " [ 1.27297679 -1.19561044  0.11308307 -1.59318959]\n",
      " [-1.98562454 -3.35420824  0.59507814  0.40950329]\n",
      " [ 0.39668482  0.95767481 -2.14502566  0.72081611]]\n",
      "равномерное распределение arr2:  [[0.41104924 0.11537719 0.06595501 0.1001126 ]\n",
      " [0.93428817 0.65122214 0.18430973 0.6698361 ]\n",
      " [0.07565008 0.62356269 0.25629467 0.19657088]\n",
      " [0.94575891 0.27138801 0.44098143 0.31097561]]\n"
     ]
    }
   ],
   "source": [
    "#сгенерируем массив размера 4×4 из нормального распределения\n",
    "arr1 = np.random.randn(4,4)\n",
    "print('нормальное распределение arr1: ', arr1)\n",
    "#сгенерируем массив размера 4×4 из равномерного распределения\n",
    "arr2 = np.random.rand(4,4)\n",
    "print('равномерное распределение arr2: ', arr2)"
   ]
  },
  {
   "cell_type": "code",
   "execution_count": 36,
   "metadata": {},
   "outputs": [
    {
     "name": "stdout",
     "output_type": "stream",
     "text": [
      "sum(arr1):  -9.181003247701446\n",
      "sum(arr2):  6.253332468180036\n",
      "mean(arr1):  -0.5738127029813404\n",
      "mean(arr2):  0.3908332792612523\n",
      "std(arr1):  1.2698706630848695\n",
      "std(arr2):  0.2839930600953234\n",
      "var(arr1):  1.612571500963606\n",
      "var(arr2):  0.08065205818230596\n"
     ]
    }
   ],
   "source": [
    "#Применяем агрегационные функции\n",
    "#sum() — подсчитывает сумму всех элементов в массиве\n",
    "#mean() — находим среднее арифметическое\n",
    "#std() — возвращает значение стандартного отклонения\n",
    "#var() — возвращает значение дисперсии (разброса) элементов массива\n",
    "print('sum(arr1): ', np.sum(arr1))\n",
    "print('sum(arr2): ', np.sum(arr2))\n",
    "print('mean(arr1): ', np.mean(arr1))\n",
    "print('mean(arr2): ', np.mean(arr2))\n",
    "print('std(arr1): ', np.std(arr1))\n",
    "print('std(arr2): ', np.std(arr2))\n",
    "print('var(arr1): ', np.var(arr1))\n",
    "print('var(arr2): ', np.var(arr2))"
   ]
  },
  {
   "cell_type": "code",
   "execution_count": 104,
   "metadata": {},
   "outputs": [
    {
     "name": "stdout",
     "output_type": "stream",
     "text": [
      "arr1\n",
      " [[ 1 20  3]\n",
      " [ 4  5  6]]\n",
      "min среди всех элементов:  1\n",
      "max среди всех элементов:  20\n",
      "max элемент в каждом столбце [ 4 20  6]\n",
      "max элемент в каждой строке [20  6]\n"
     ]
    }
   ],
   "source": [
    "arr1_ = np.array([[1, 20, 3], [4, 5, 6]], dtype='int16')\n",
    "print('arr1\\n', arr1_)\n",
    "print('min среди всех элементов: ', arr1_.min())\n",
    "print('max среди всех элементов: ', arr1_.max())\n",
    "print('max элемент в каждом столбце', arr1_.max(axis=0))\n",
    "print('max элемент в каждой строке', arr1_.max(axis=1))"
   ]
  },
  {
   "cell_type": "markdown",
   "metadata": {},
   "source": [
    "# Создание массива на основе функции, принимающей индексы (номера элементов)"
   ]
  },
  {
   "cell_type": "code",
   "execution_count": 14,
   "metadata": {},
   "outputs": [
    {
     "name": "stdout",
     "output_type": "stream",
     "text": [
      "Создание массива с использованием функции (arr3):\n",
      " [[0. 1. 2. 3.]\n",
      " [2. 3. 4. 5.]\n",
      " [4. 5. 6. 7.]]\n"
     ]
    }
   ],
   "source": [
    "arr3 = np.fromfunction(lambda i, j: 2*i + j, (3, 4))\n",
    "print('Создание массива с использованием функции (arr3):\\n', arr3)"
   ]
  },
  {
   "cell_type": "code",
   "execution_count": 16,
   "metadata": {},
   "outputs": [
    {
     "name": "stdout",
     "output_type": "stream",
     "text": [
      "Создание массива с использованием функции:\n",
      " [[0. 1. 2. 3.]\n",
      " [3. 4. 5. 6.]\n",
      " [6. 7. 8. 9.]]\n"
     ]
    }
   ],
   "source": [
    "#i- индекс строки, j - индекс столбца\n",
    "def f1(i, j):\n",
    "    return 3 * i + j\n",
    "print('Создание массива с использованием функции:\\n', np.fromfunction(f1, (3, 4)))\n"
   ]
  },
  {
   "cell_type": "markdown",
   "metadata": {},
   "source": [
    "# Печать массивов"
   ]
  },
  {
   "cell_type": "code",
   "execution_count": 44,
   "metadata": {},
   "outputs": [
    {
     "name": "stdout",
     "output_type": "stream",
     "text": [
      "[   0    1    2    3    4\n",
      "    5    6    7    8    9\n",
      "   10   11   12   13   14\n",
      "   15   16   17   18   19\n",
      " ...  981  982  983  984\n",
      "  985  986  987  988  989\n",
      "  990  991  992  993  994\n",
      "  995  996  997  998  999\n",
      " 1000]\n"
     ]
    }
   ],
   "source": [
    "print(np.arange(0, 1001, 1))"
   ]
  },
  {
   "cell_type": "code",
   "execution_count": 45,
   "metadata": {},
   "outputs": [
    {
     "name": "stdout",
     "output_type": "stream",
     "text": [
      "[ 0  1  2  3  4  5  6  7\n",
      "  8  9 10 11 12 13 14 15\n",
      " 16 17 18 19]\n"
     ]
    }
   ],
   "source": [
    "np.set_printoptions(threshold=10)\n",
    "print(np.arange(0, 20, 1))"
   ]
  },
  {
   "cell_type": "code",
   "execution_count": 46,
   "metadata": {},
   "outputs": [
    {
     "name": "stdout",
     "output_type": "stream",
     "text": [
      "Использование функции numpy.set_printoptions:\n",
      " [ 0  1  2  3  4  5  6  7\n",
      "  8  9 10 11 12 13 14 15\n",
      " 16 17 18 19]\n"
     ]
    }
   ],
   "source": [
    "# Использование функции numpy.set_printoptions, чтобы увидеть весь массив\n",
    "np.set_printoptions(threshold=30)\n",
    "print('Использование функции numpy.set_printoptions:\\n', np.arange(0, 20, 1))"
   ]
  },
  {
   "cell_type": "code",
   "execution_count": 72,
   "metadata": {},
   "outputs": [
    {
     "name": "stdout",
     "output_type": "stream",
     "text": [
      "Использование функции numpy.set_printoptions:\n",
      " [ 0  1  2  3  4  5  6  7  8  9 10 11 12 13 14 15 16 17 18 19 ... 30 31 32 33 34 35 36 37 38 39 40 41 42 43 44 45 46 47 48 49]\n"
     ]
    }
   ],
   "source": [
    "#Аргументы функции numpy.set_printoptions\n",
    "'''precision : количество отображаемых цифр после запятой (по умолчанию 8).\n",
    "\n",
    "threshold : количество элементов в массиве, вызывающее обрезание элементов (по умолчанию 1000).\n",
    "\n",
    "edgeitems : количество элементов в начале и в конце каждой размерности массива (по умолчанию 3).\n",
    "\n",
    "linewidth : количество символов в строке, после которых осуществляется перенос (по умолчанию 75).\n",
    "\n",
    "suppress : если True, не печатает маленькие значения в scientific notation (по умолчанию False).\n",
    "\n",
    "nanstr : строковое представление NaN (по умолчанию 'nan').\n",
    "\n",
    "infstr : строковое представление inf (по умолчанию 'inf').\n",
    "\n",
    "formatter : позволяет более тонко управлять печатью массивов.'''\n",
    "np.set_printoptions(threshold=30, edgeitems=20, linewidth=260)\n",
    "print('Использование функции numpy.set_printoptions:\\n', np.arange(0, 50, 1))"
   ]
  },
  {
   "cell_type": "markdown",
   "metadata": {},
   "source": [
    "# Базовые операции"
   ]
  },
  {
   "cell_type": "code",
   "execution_count": 59,
   "metadata": {},
   "outputs": [
    {
     "name": "stdout",
     "output_type": "stream",
     "text": [
      "Поэлементное сложение массивов:  [20 31 42 53]\n",
      "Поэлементное вычитание массивов:  [20 29 38 47]\n",
      "Поэлементное перемножение массивов:  [  0  30  80 150]\n",
      "Поэлементное деление массивов:\n",
      " [        inf 30.\n",
      " 20.         16.66666667]\n",
      "Поэлементное возведение в степень массивов:\n",
      " [     1     30   1600\n",
      " 125000]\n",
      "Поэлементное целочисленное деление массивов:\n",
      " [ 0 30 20 16]\n",
      "Поэлементное взятие остатока от деления массивов:\n",
      " [0 0 0 2]\n"
     ]
    },
    {
     "name": "stderr",
     "output_type": "stream",
     "text": [
      "C:\\Users\\user\\Anaconda3\\lib\\site-packages\\ipykernel_launcher.py:10: RuntimeWarning: divide by zero encountered in true_divide\n",
      "  # Remove the CWD from sys.path while we load stuff.\n",
      "C:\\Users\\user\\Anaconda3\\lib\\site-packages\\ipykernel_launcher.py:12: RuntimeWarning: divide by zero encountered in floor_divide\n",
      "  if sys.path[0] == '':\n",
      "C:\\Users\\user\\Anaconda3\\lib\\site-packages\\ipykernel_launcher.py:13: RuntimeWarning: divide by zero encountered in remainder\n",
      "  del sys.path[0]\n"
     ]
    }
   ],
   "source": [
    "#Математические операции над массивами выполняются поэлементно. \n",
    "#Создается новый массив, который заполняется результатами действия оператора.\n",
    "#Массивы должны быть одинаковых размеров.\n",
    "\n",
    "a = np.array([20, 30, 40, 50])\n",
    "b = np.arange(4)\n",
    "print('Поэлементное сложение массивов: ', a + b)\n",
    "print('Поэлементное вычитание массивов: ', a - b)\n",
    "print('Поэлементное перемножение массивов: ', a * b)\n",
    "print('Поэлементное деление массивов:\\n', a / b)\n",
    "print('Поэлементное возведение в степень массивов:\\n', a ** b)\n",
    "print('Поэлементное целочисленное деление массивов:\\n', a // b)\n",
    "print('Поэлементное взятие остатока от деления массивов:\\n', a % b)"
   ]
  },
  {
   "cell_type": "code",
   "execution_count": 70,
   "metadata": {},
   "outputs": [
    {
     "name": "stdout",
     "output_type": "stream",
     "text": [
      "a =  [17 27 37 47]\n",
      "a + 1 =  [18 28 38 48]\n",
      "a ** 3 =  [  4913  19683  50653\n",
      " 103823]\n",
      "Операция со старым массивом (a -= 1) : [16 26 36 46]\n"
     ]
    }
   ],
   "source": [
    "#Можно производить математические операции между массивом и числом. \n",
    "#В этом случае к каждому элементу прибавляется это число.\n",
    "#Данные операции создают новый массив не меняя старый.\n",
    "print('a = ', a)\n",
    "print('a + 1 = ', a + 1)\n",
    "print('a ** 3 = ', a ** 3)\n",
    "#Данная операция изменяет старый массив\n",
    "a -= 1\n",
    "print('Операция со старым массивом (a -= 1) :', a)"
   ]
  },
  {
   "cell_type": "code",
   "execution_count": 82,
   "metadata": {},
   "outputs": [
    {
     "name": "stdout",
     "output_type": "stream",
     "text": [
      "a < 35 : [ True  True  True  True  True  True  True  True False  True False]\n",
      "Отбираем элементы, которые меньше 10 (a[a < 10]) :\n",
      " [  5   0 -13   4  -1  -7]\n"
     ]
    }
   ],
   "source": [
    "#Фильтрация\n",
    "a = np.array([5, 0, 20, -13, 25, 4, 30, -1, 40, -7, 50], dtype='int32')\n",
    "print('a < 35 :', a < 35)\n",
    "print('Отбираем элементы, которые меньше 10 (a[a < 10]) :\\n', a[a < 10])"
   ]
  },
  {
   "cell_type": "code",
   "execution_count": null,
   "metadata": {},
   "outputs": [],
   "source": []
  }
 ],
 "metadata": {
  "kernelspec": {
   "display_name": "Python 3",
   "language": "python",
   "name": "python3"
  },
  "language_info": {
   "codemirror_mode": {
    "name": "ipython",
    "version": 3
   },
   "file_extension": ".py",
   "mimetype": "text/x-python",
   "name": "python",
   "nbconvert_exporter": "python",
   "pygments_lexer": "ipython3",
   "version": "3.7.0"
  }
 },
 "nbformat": 4,
 "nbformat_minor": 2
}
